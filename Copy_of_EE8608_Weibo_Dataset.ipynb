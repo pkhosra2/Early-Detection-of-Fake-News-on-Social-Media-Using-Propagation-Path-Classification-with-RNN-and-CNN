{
  "nbformat": 4,
  "nbformat_minor": 0,
  "metadata": {
    "colab": {
      "name": "Copy of EE8608 Weibo Dataset.ipynb",
      "provenance": [],
      "collapsed_sections": [],
      "machine_shape": "hm"
    },
    "kernelspec": {
      "name": "python3",
      "display_name": "Python 3"
    },
    "accelerator": "TPU"
  },
  "cells": [
    {
      "cell_type": "markdown",
      "metadata": {
        "id": "H6kBetI7luxx",
        "colab_type": "text"
      },
      "source": [
        "#Importing Necessary Libraries "
      ]
    },
    {
      "cell_type": "code",
      "metadata": {
        "id": "UaT8A52pBy1l",
        "colab_type": "code",
        "colab": {}
      },
      "source": [
        "import os, json\n",
        "import glob\n",
        "import pandas as pd\n",
        "import numpy as np\n",
        "import torch\n",
        "import torch.nn as nn\n",
        "import torch.nn.functional as F\n",
        "from zipfile import ZipFile\n",
        "from sklearn import preprocessing\n",
        "from sklearn.model_selection import train_test_split\n",
        "from torch.utils.data import DataLoader, TensorDataset\n",
        "from torch.utils.data import Dataset\n",
        "import tensorflow as tf"
      ],
      "execution_count": 0,
      "outputs": []
    },
    {
      "cell_type": "code",
      "metadata": {
        "id": "4lE4IiZrB2E7",
        "colab_type": "code",
        "colab": {}
      },
      "source": [
        "from google.colab import drive"
      ],
      "execution_count": 0,
      "outputs": []
    },
    {
      "cell_type": "code",
      "metadata": {
        "id": "U9J2my7oSeUG",
        "colab_type": "code",
        "outputId": "cee6589a-63ae-4f9d-8617-ae777e2283ff",
        "colab": {
          "resources": {
            "http://localhost:8080/nbextensions/google.colab/files.js": {
              "data": "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",
              "ok": true,
              "headers": [
                [
                  "content-type",
                  "application/javascript"
                ]
              ],
              "status": 200,
              "status_text": ""
            }
          },
          "base_uri": "https://localhost:8080/",
          "height": 75
        }
      },
      "source": [
        "from google.colab import files\n",
        "uploaded = files.upload()"
      ],
      "execution_count": 3,
      "outputs": [
        {
          "output_type": "display_data",
          "data": {
            "text/html": [
              "\n",
              "     <input type=\"file\" id=\"files-bd050595-fc51-4c68-93cd-c17fe677aa3f\" name=\"files[]\" multiple disabled />\n",
              "     <output id=\"result-bd050595-fc51-4c68-93cd-c17fe677aa3f\">\n",
              "      Upload widget is only available when the cell has been executed in the\n",
              "      current browser session. Please rerun this cell to enable.\n",
              "      </output>\n",
              "      <script src=\"/nbextensions/google.colab/files.js\"></script> "
            ],
            "text/plain": [
              "<IPython.core.display.HTML object>"
            ]
          },
          "metadata": {
            "tags": []
          }
        },
        {
          "output_type": "stream",
          "text": [
            "Saving Weibo.txt to Weibo.txt\n"
          ],
          "name": "stdout"
        }
      ]
    },
    {
      "cell_type": "code",
      "metadata": {
        "id": "UVpb_A0BLufk",
        "colab_type": "code",
        "outputId": "60a87a20-7506-4bc1-9332-9c6e40d494ec",
        "colab": {
          "base_uri": "https://localhost:8080/",
          "height": 128
        }
      },
      "source": [
        "drive.mount('/content/drive')"
      ],
      "execution_count": 4,
      "outputs": [
        {
          "output_type": "stream",
          "text": [
            "Go to this URL in a browser: https://accounts.google.com/o/oauth2/auth?client_id=947318989803-6bn6qk8qdgf4n4g3pfee6491hc0brc4i.apps.googleusercontent.com&redirect_uri=urn%3aietf%3awg%3aoauth%3a2.0%3aoob&response_type=code&scope=email%20https%3a%2f%2fwww.googleapis.com%2fauth%2fdocs.test%20https%3a%2f%2fwww.googleapis.com%2fauth%2fdrive%20https%3a%2f%2fwww.googleapis.com%2fauth%2fdrive.photos.readonly%20https%3a%2f%2fwww.googleapis.com%2fauth%2fpeopleapi.readonly\n",
            "\n",
            "Enter your authorization code:\n",
            "··········\n",
            "Mounted at /content/drive\n"
          ],
          "name": "stdout"
        }
      ]
    },
    {
      "cell_type": "code",
      "metadata": {
        "id": "d1nL2ycTcQuH",
        "colab_type": "code",
        "outputId": "7584d1b6-5e51-464e-f82d-1c44340699e0",
        "colab": {
          "base_uri": "https://localhost:8080/",
          "height": 35
        }
      },
      "source": [
        "!ls drive\n"
      ],
      "execution_count": 5,
      "outputs": [
        {
          "output_type": "stream",
          "text": [
            "'My Drive'\n"
          ],
          "name": "stdout"
        }
      ]
    },
    {
      "cell_type": "markdown",
      "metadata": {
        "id": "P7kIcSgLl4Rr",
        "colab_type": "text"
      },
      "source": [
        "#Creating Dataset"
      ]
    },
    {
      "cell_type": "markdown",
      "metadata": {
        "id": "9bYXSTf6lt8v",
        "colab_type": "text"
      },
      "source": [
        "Since our original dataset is in JSON format, we need to convert it into a readible format pandas dataframe. This small segment below will allow us to do just that"
      ]
    },
    {
      "cell_type": "code",
      "metadata": {
        "id": "wmv6chdoc4dP",
        "colab_type": "code",
        "colab": {}
      },
      "source": [
        "#create an empty-list\n",
        "weibo = []\n",
        "\n",
        "#using ziplefile package to unpackage zipped JSON files\n",
        "zf = ZipFile('/content/drive/My Drive/Weibo.zip')\n",
        "\n",
        "#convert to text files\n",
        "text_files = zf.namelist()\n",
        "\n",
        "#for-loop to read an convert each JSON file and add to pandas dataframe\n",
        "for text_file in text_files:\n",
        "   data = pd.read_json(zf.open(text_file))\n",
        "   weibo.append(data)\n",
        "\n",
        "#concatenate text files indo dataframe\n",
        "weibo = pd.concat(weibo)\n",
        " "
      ],
      "execution_count": 0,
      "outputs": []
    },
    {
      "cell_type": "code",
      "metadata": {
        "id": "kqtrcDKwLMIz",
        "colab_type": "code",
        "outputId": "6b179e1c-14ad-44fa-f6a8-c189c3297821",
        "colab": {
          "base_uri": "https://localhost:8080/",
          "height": 443
        }
      },
      "source": [
        " weibo.head()"
      ],
      "execution_count": 7,
      "outputs": [
        {
          "output_type": "execute_result",
          "data": {
            "text/html": [
              "<div>\n",
              "<style scoped>\n",
              "    .dataframe tbody tr th:only-of-type {\n",
              "        vertical-align: middle;\n",
              "    }\n",
              "\n",
              "    .dataframe tbody tr th {\n",
              "        vertical-align: top;\n",
              "    }\n",
              "\n",
              "    .dataframe thead th {\n",
              "        text-align: right;\n",
              "    }\n",
              "</style>\n",
              "<table border=\"1\" class=\"dataframe\">\n",
              "  <thead>\n",
              "    <tr style=\"text-align: right;\">\n",
              "      <th></th>\n",
              "      <th>reposts_count</th>\n",
              "      <th>uid</th>\n",
              "      <th>bi_followers_count</th>\n",
              "      <th>text</th>\n",
              "      <th>user_description</th>\n",
              "      <th>user_avatar</th>\n",
              "      <th>id</th>\n",
              "      <th>city</th>\n",
              "      <th>province</th>\n",
              "      <th>friends_count</th>\n",
              "      <th>user_location</th>\n",
              "      <th>mid</th>\n",
              "      <th>verified_reason</th>\n",
              "      <th>attitudes_count</th>\n",
              "      <th>followers_count</th>\n",
              "      <th>verified_type</th>\n",
              "      <th>original_text</th>\n",
              "      <th>picture</th>\n",
              "      <th>statuses_count</th>\n",
              "      <th>parent</th>\n",
              "      <th>verified</th>\n",
              "      <th>geo</th>\n",
              "      <th>user_created_at</th>\n",
              "      <th>favourites_count</th>\n",
              "      <th>screen_name</th>\n",
              "      <th>gender</th>\n",
              "      <th>user_geo_enabled</th>\n",
              "      <th>username</th>\n",
              "      <th>comments_count</th>\n",
              "      <th>t</th>\n",
              "    </tr>\n",
              "  </thead>\n",
              "  <tbody>\n",
              "    <tr>\n",
              "      <th>0</th>\n",
              "      <td>267</td>\n",
              "      <td>1760369714</td>\n",
              "      <td>322</td>\n",
              "      <td>毛新宇 深情演唱新作《献给爷爷奶奶的歌》 http://t.cn/h1R0Rj</td>\n",
              "      <td>本博所有帖子均来源于网络，若侵权请告知~谢谢关注。</td>\n",
              "      <td>http://tp3.sinaimg.cn/1760369714/180/1294234453/1</td>\n",
              "      <td>10031080900</td>\n",
              "      <td>1000</td>\n",
              "      <td>400</td>\n",
              "      <td>1273</td>\n",
              "      <td>海外</td>\n",
              "      <td>2111105031607336</td>\n",
              "      <td></td>\n",
              "      <td>0</td>\n",
              "      <td>1011418</td>\n",
              "      <td>-1</td>\n",
              "      <td>毛新宇 深情演唱新作《献给爷爷奶奶的歌》 http://t.cn/h1R0Rj</td>\n",
              "      <td>NaN</td>\n",
              "      <td>116681</td>\n",
              "      <td>NaN</td>\n",
              "      <td>False</td>\n",
              "      <td>NaN</td>\n",
              "      <td>2010-06-10 15:44:15</td>\n",
              "      <td>6</td>\n",
              "      <td>历史震惊你</td>\n",
              "      <td>m</td>\n",
              "      <td>True</td>\n",
              "      <td>历史震惊你</td>\n",
              "      <td>169</td>\n",
              "      <td>1304404747</td>\n",
              "    </tr>\n",
              "    <tr>\n",
              "      <th>1</th>\n",
              "      <td>0</td>\n",
              "      <td>1838774143</td>\n",
              "      <td>172</td>\n",
              "      <td>我工作，大家先看个乐儿吧，看我有感觉的请自觉汇报感受。</td>\n",
              "      <td>给我一个支点，我能翘起二郎腿。</td>\n",
              "      <td>http://tp4.sinaimg.cn/1838774143/180/5664672365/0</td>\n",
              "      <td>10031139424</td>\n",
              "      <td>1</td>\n",
              "      <td>11</td>\n",
              "      <td>1946</td>\n",
              "      <td>北京 东城区</td>\n",
              "      <td>5602376064817144832</td>\n",
              "      <td></td>\n",
              "      <td>0</td>\n",
              "      <td>745</td>\n",
              "      <td>-1</td>\n",
              "      <td>我工作，大家先看个乐儿吧，看我有感觉的请自觉汇报感受。</td>\n",
              "      <td>NaN</td>\n",
              "      <td>7161</td>\n",
              "      <td>2.111105e+15</td>\n",
              "      <td>False</td>\n",
              "      <td>NaN</td>\n",
              "      <td>2010-10-25 10:20:53</td>\n",
              "      <td>11293</td>\n",
              "      <td>冒场的冒</td>\n",
              "      <td>f</td>\n",
              "      <td>True</td>\n",
              "      <td>冒场的冒</td>\n",
              "      <td>0</td>\n",
              "      <td>1304404825</td>\n",
              "    </tr>\n",
              "    <tr>\n",
              "      <th>2</th>\n",
              "      <td>0</td>\n",
              "      <td>1877330775</td>\n",
              "      <td>29</td>\n",
              "      <td>[汗]</td>\n",
              "      <td></td>\n",
              "      <td>http://tp4.sinaimg.cn/1877330775/180/5713662294/0</td>\n",
              "      <td>10031149936</td>\n",
              "      <td>1</td>\n",
              "      <td>11</td>\n",
              "      <td>77</td>\n",
              "      <td>北京 东城区</td>\n",
              "      <td>5602376120817609728</td>\n",
              "      <td></td>\n",
              "      <td>0</td>\n",
              "      <td>292</td>\n",
              "      <td>-1</td>\n",
              "      <td>[汗]</td>\n",
              "      <td>NaN</td>\n",
              "      <td>2327</td>\n",
              "      <td>2.111105e+15</td>\n",
              "      <td>False</td>\n",
              "      <td>NaN</td>\n",
              "      <td>2010-11-29 02:22:16</td>\n",
              "      <td>164</td>\n",
              "      <td>cecilia1019_chen</td>\n",
              "      <td>f</td>\n",
              "      <td>True</td>\n",
              "      <td>cecilia1019_chen</td>\n",
              "      <td>0</td>\n",
              "      <td>1304404838</td>\n",
              "    </tr>\n",
              "    <tr>\n",
              "      <th>3</th>\n",
              "      <td>0</td>\n",
              "      <td>1607507894</td>\n",
              "      <td>259</td>\n",
              "      <td>笑而不语。。。。</td>\n",
              "      <td>东张西望。一无所长。四体不勤。五谷不分。。。大梦一场。</td>\n",
              "      <td>http://tp3.sinaimg.cn/1607507894/180/5701479239/0</td>\n",
              "      <td>10031160544</td>\n",
              "      <td>1</td>\n",
              "      <td>43</td>\n",
              "      <td>735</td>\n",
              "      <td>湖南 长沙</td>\n",
              "      <td>5602376180947154944</td>\n",
              "      <td></td>\n",
              "      <td>0</td>\n",
              "      <td>1364</td>\n",
              "      <td>-1</td>\n",
              "      <td>笑而不语。。。。</td>\n",
              "      <td>NaN</td>\n",
              "      <td>3872</td>\n",
              "      <td>2.111105e+15</td>\n",
              "      <td>False</td>\n",
              "      <td>NaN</td>\n",
              "      <td>2010-12-03 02:42:21</td>\n",
              "      <td>14</td>\n",
              "      <td>刘小姐胖得被人打</td>\n",
              "      <td>f</td>\n",
              "      <td>True</td>\n",
              "      <td>刘小姐胖得被人打</td>\n",
              "      <td>0</td>\n",
              "      <td>1304404852</td>\n",
              "    </tr>\n",
              "    <tr>\n",
              "      <th>4</th>\n",
              "      <td>0</td>\n",
              "      <td>1043857555</td>\n",
              "      <td>89</td>\n",
              "      <td>在我看来，力推毛新宇，就是打压太子党的一种温柔方式。</td>\n",
              "      <td></td>\n",
              "      <td>http://tp4.sinaimg.cn/1043857555/180/1278895325/1</td>\n",
              "      <td>10031160846</td>\n",
              "      <td>1</td>\n",
              "      <td>31</td>\n",
              "      <td>278</td>\n",
              "      <td>上海 黄浦区</td>\n",
              "      <td>5602376185242122240</td>\n",
              "      <td></td>\n",
              "      <td>0</td>\n",
              "      <td>193</td>\n",
              "      <td>-1</td>\n",
              "      <td>在我看来，力推毛新宇，就是打压太子党的一种温柔方式。</td>\n",
              "      <td>NaN</td>\n",
              "      <td>546</td>\n",
              "      <td>2.111105e+15</td>\n",
              "      <td>False</td>\n",
              "      <td>NaN</td>\n",
              "      <td>2010-04-20 17:21:02</td>\n",
              "      <td>5</td>\n",
              "      <td>孙彦亦</td>\n",
              "      <td>m</td>\n",
              "      <td>False</td>\n",
              "      <td>孙彦亦</td>\n",
              "      <td>1</td>\n",
              "      <td>1304404853</td>\n",
              "    </tr>\n",
              "  </tbody>\n",
              "</table>\n",
              "</div>"
            ],
            "text/plain": [
              "   reposts_count         uid  ...  comments_count           t\n",
              "0            267  1760369714  ...             169  1304404747\n",
              "1              0  1838774143  ...               0  1304404825\n",
              "2              0  1877330775  ...               0  1304404838\n",
              "3              0  1607507894  ...               0  1304404852\n",
              "4              0  1043857555  ...               1  1304404853\n",
              "\n",
              "[5 rows x 30 columns]"
            ]
          },
          "metadata": {
            "tags": []
          },
          "execution_count": 7
        }
      ]
    },
    {
      "cell_type": "markdown",
      "metadata": {
        "id": "sKULDxyGbuDD",
        "colab_type": "text"
      },
      "source": [
        "#Exploratory Data Analysis "
      ]
    },
    {
      "cell_type": "code",
      "metadata": {
        "id": "OdIjK1Qzb01V",
        "colab_type": "code",
        "outputId": "7f2b3385-c64a-4592-f6b6-eeeb488d620f",
        "colab": {
          "base_uri": "https://localhost:8080/",
          "height": 654
        }
      },
      "source": [
        "weibo.info()"
      ],
      "execution_count": 8,
      "outputs": [
        {
          "output_type": "stream",
          "text": [
            "<class 'pandas.core.frame.DataFrame'>\n",
            "Int64Index: 3805656 entries, 0 to 608\n",
            "Data columns (total 30 columns):\n",
            "reposts_count         int64\n",
            "uid                   int64\n",
            "bi_followers_count    int64\n",
            "text                  object\n",
            "user_description      object\n",
            "user_avatar           object\n",
            "id                    int64\n",
            "city                  int64\n",
            "province              int64\n",
            "friends_count         int64\n",
            "user_location         object\n",
            "mid                   int64\n",
            "verified_reason       object\n",
            "attitudes_count       int64\n",
            "followers_count       int64\n",
            "verified_type         int64\n",
            "original_text         object\n",
            "picture               object\n",
            "statuses_count        int64\n",
            "parent                float64\n",
            "verified              bool\n",
            "geo                   object\n",
            "user_created_at       datetime64[ns]\n",
            "favourites_count      int64\n",
            "screen_name           object\n",
            "gender                object\n",
            "user_geo_enabled      bool\n",
            "username              object\n",
            "comments_count        int64\n",
            "t                     int64\n",
            "dtypes: bool(2), datetime64[ns](1), float64(1), int64(15), object(11)\n",
            "memory usage: 849.3+ MB\n"
          ],
          "name": "stdout"
        }
      ]
    },
    {
      "cell_type": "code",
      "metadata": {
        "id": "HF7tJFnFeg9t",
        "colab_type": "code",
        "outputId": "321d4df1-6268-4bdb-f154-b5f1f934d352",
        "colab": {
          "base_uri": "https://localhost:8080/",
          "height": 308
        }
      },
      "source": [
        "weibo.describe()"
      ],
      "execution_count": 0,
      "outputs": [
        {
          "output_type": "execute_result",
          "data": {
            "text/html": [
              "<div>\n",
              "<style scoped>\n",
              "    .dataframe tbody tr th:only-of-type {\n",
              "        vertical-align: middle;\n",
              "    }\n",
              "\n",
              "    .dataframe tbody tr th {\n",
              "        vertical-align: top;\n",
              "    }\n",
              "\n",
              "    .dataframe thead th {\n",
              "        text-align: right;\n",
              "    }\n",
              "</style>\n",
              "<table border=\"1\" class=\"dataframe\">\n",
              "  <thead>\n",
              "    <tr style=\"text-align: right;\">\n",
              "      <th></th>\n",
              "      <th>reposts_count</th>\n",
              "      <th>uid</th>\n",
              "      <th>bi_followers_count</th>\n",
              "      <th>id</th>\n",
              "      <th>city</th>\n",
              "      <th>province</th>\n",
              "      <th>friends_count</th>\n",
              "      <th>mid</th>\n",
              "      <th>attitudes_count</th>\n",
              "      <th>followers_count</th>\n",
              "      <th>verified_type</th>\n",
              "      <th>statuses_count</th>\n",
              "      <th>parent</th>\n",
              "      <th>favourites_count</th>\n",
              "      <th>comments_count</th>\n",
              "      <th>t</th>\n",
              "    </tr>\n",
              "  </thead>\n",
              "  <tbody>\n",
              "    <tr>\n",
              "      <th>count</th>\n",
              "      <td>3.805656e+06</td>\n",
              "      <td>3.805656e+06</td>\n",
              "      <td>3.805656e+06</td>\n",
              "      <td>3.805656e+06</td>\n",
              "      <td>3.805656e+06</td>\n",
              "      <td>3.805656e+06</td>\n",
              "      <td>3.805656e+06</td>\n",
              "      <td>3.805656e+06</td>\n",
              "      <td>3.805656e+06</td>\n",
              "      <td>3.805656e+06</td>\n",
              "      <td>3.805656e+06</td>\n",
              "      <td>3.805656e+06</td>\n",
              "      <td>3.800992e+06</td>\n",
              "      <td>3.805656e+06</td>\n",
              "      <td>3.805656e+06</td>\n",
              "      <td>3.805656e+06</td>\n",
              "    </tr>\n",
              "    <tr>\n",
              "      <th>mean</th>\n",
              "      <td>2.540527e+00</td>\n",
              "      <td>2.604696e+09</td>\n",
              "      <td>1.111895e+02</td>\n",
              "      <td>3.627244e+15</td>\n",
              "      <td>2.172112e+02</td>\n",
              "      <td>5.610215e+01</td>\n",
              "      <td>3.726101e+02</td>\n",
              "      <td>5.330037e+16</td>\n",
              "      <td>1.411159e+00</td>\n",
              "      <td>1.817272e+04</td>\n",
              "      <td>4.201934e+01</td>\n",
              "      <td>4.644336e+03</td>\n",
              "      <td>4.293130e+16</td>\n",
              "      <td>3.057142e+02</td>\n",
              "      <td>8.876031e-01</td>\n",
              "      <td>1.394419e+09</td>\n",
              "    </tr>\n",
              "    <tr>\n",
              "      <th>std</th>\n",
              "      <td>1.805378e+02</td>\n",
              "      <td>1.200170e+09</td>\n",
              "      <td>2.372029e+02</td>\n",
              "      <td>5.236409e+14</td>\n",
              "      <td>4.067502e+02</td>\n",
              "      <td>7.476520e+01</td>\n",
              "      <td>4.500370e+02</td>\n",
              "      <td>4.874384e+17</td>\n",
              "      <td>3.845409e+02</td>\n",
              "      <td>6.948063e+05</td>\n",
              "      <td>8.717965e+01</td>\n",
              "      <td>1.369328e+04</td>\n",
              "      <td>4.192295e+17</td>\n",
              "      <td>3.547998e+03</td>\n",
              "      <td>6.711213e+01</td>\n",
              "      <td>4.555677e+07</td>\n",
              "    </tr>\n",
              "    <tr>\n",
              "      <th>min</th>\n",
              "      <td>0.000000e+00</td>\n",
              "      <td>1.002900e+04</td>\n",
              "      <td>-5.690000e+02</td>\n",
              "      <td>4.010313e+09</td>\n",
              "      <td>1.000000e+00</td>\n",
              "      <td>1.100000e+01</td>\n",
              "      <td>0.000000e+00</td>\n",
              "      <td>2.111101e+12</td>\n",
              "      <td>0.000000e+00</td>\n",
              "      <td>0.000000e+00</td>\n",
              "      <td>-1.000000e+00</td>\n",
              "      <td>0.000000e+00</td>\n",
              "      <td>2.111104e+13</td>\n",
              "      <td>0.000000e+00</td>\n",
              "      <td>0.000000e+00</td>\n",
              "      <td>1.291221e+09</td>\n",
              "    </tr>\n",
              "    <tr>\n",
              "      <th>25%</th>\n",
              "      <td>0.000000e+00</td>\n",
              "      <td>1.794857e+09</td>\n",
              "      <td>1.100000e+01</td>\n",
              "      <td>3.516887e+15</td>\n",
              "      <td>1.000000e+00</td>\n",
              "      <td>3.100000e+01</td>\n",
              "      <td>1.180000e+02</td>\n",
              "      <td>3.521622e+15</td>\n",
              "      <td>0.000000e+00</td>\n",
              "      <td>6.900000e+01</td>\n",
              "      <td>-1.000000e+00</td>\n",
              "      <td>4.450000e+02</td>\n",
              "      <td>3.521045e+15</td>\n",
              "      <td>2.000000e+00</td>\n",
              "      <td>0.000000e+00</td>\n",
              "      <td>1.353975e+09</td>\n",
              "    </tr>\n",
              "    <tr>\n",
              "      <th>50%</th>\n",
              "      <td>0.000000e+00</td>\n",
              "      <td>2.208946e+09</td>\n",
              "      <td>4.100000e+01</td>\n",
              "      <td>3.600441e+15</td>\n",
              "      <td>5.000000e+00</td>\n",
              "      <td>3.700000e+01</td>\n",
              "      <td>2.200000e+02</td>\n",
              "      <td>3.604401e+15</td>\n",
              "      <td>0.000000e+00</td>\n",
              "      <td>2.050000e+02</td>\n",
              "      <td>-1.000000e+00</td>\n",
              "      <td>1.485000e+03</td>\n",
              "      <td>3.603164e+15</td>\n",
              "      <td>1.800000e+01</td>\n",
              "      <td>0.000000e+00</td>\n",
              "      <td>1.373896e+09</td>\n",
              "    </tr>\n",
              "    <tr>\n",
              "      <th>75%</th>\n",
              "      <td>0.000000e+00</td>\n",
              "      <td>2.922571e+09</td>\n",
              "      <td>1.100000e+02</td>\n",
              "      <td>3.911259e+15</td>\n",
              "      <td>1.800000e+01</td>\n",
              "      <td>5.100000e+01</td>\n",
              "      <td>4.220000e+02</td>\n",
              "      <td>3.911362e+15</td>\n",
              "      <td>0.000000e+00</td>\n",
              "      <td>4.770000e+02</td>\n",
              "      <td>-1.000000e+00</td>\n",
              "      <td>4.496000e+03</td>\n",
              "      <td>3.911259e+15</td>\n",
              "      <td>1.290000e+02</td>\n",
              "      <td>0.000000e+00</td>\n",
              "      <td>1.448000e+09</td>\n",
              "    </tr>\n",
              "    <tr>\n",
              "      <th>max</th>\n",
              "      <td>1.036820e+05</td>\n",
              "      <td>5.828321e+09</td>\n",
              "      <td>6.880000e+03</td>\n",
              "      <td>3.931344e+15</td>\n",
              "      <td>1.000000e+03</td>\n",
              "      <td>4.000000e+02</td>\n",
              "      <td>5.000000e+03</td>\n",
              "      <td>5.629141e+18</td>\n",
              "      <td>5.926620e+05</td>\n",
              "      <td>1.529447e+08</td>\n",
              "      <td>2.200000e+02</td>\n",
              "      <td>1.039647e+06</td>\n",
              "      <td>5.626076e+18</td>\n",
              "      <td>7.866530e+05</td>\n",
              "      <td>3.810300e+04</td>\n",
              "      <td>1.452789e+09</td>\n",
              "    </tr>\n",
              "  </tbody>\n",
              "</table>\n",
              "</div>"
            ],
            "text/plain": [
              "       reposts_count           uid  ...  comments_count             t\n",
              "count   3.805656e+06  3.805656e+06  ...    3.805656e+06  3.805656e+06\n",
              "mean    2.540527e+00  2.604696e+09  ...    8.876031e-01  1.394419e+09\n",
              "std     1.805378e+02  1.200170e+09  ...    6.711213e+01  4.555677e+07\n",
              "min     0.000000e+00  1.002900e+04  ...    0.000000e+00  1.291221e+09\n",
              "25%     0.000000e+00  1.794857e+09  ...    0.000000e+00  1.353975e+09\n",
              "50%     0.000000e+00  2.208946e+09  ...    0.000000e+00  1.373896e+09\n",
              "75%     0.000000e+00  2.922571e+09  ...    0.000000e+00  1.448000e+09\n",
              "max     1.036820e+05  5.828321e+09  ...    3.810300e+04  1.452789e+09\n",
              "\n",
              "[8 rows x 16 columns]"
            ]
          },
          "metadata": {
            "tags": []
          },
          "execution_count": 10
        }
      ]
    },
    {
      "cell_type": "markdown",
      "metadata": {
        "id": "wxYJXe5GEBGZ",
        "colab_type": "text"
      },
      "source": [
        "Now that we have our dataset imported we can do the same with our labels from the paper. This dataset is as follows: \n",
        "\n",
        " ***This corpus contains 4664 labeled events in total. Each line contains one event with ids of relevent posts with format: event_id, label, post_ids. For the labels, the value is 1 if the event is a rumor, and is 0 otherwise.***\n",
        " \n",
        "  *Note that we do not explicitly produce claim for each Weibo event since we directly collect the events as propagation threads from Sina community management center, and the source post (the first post) of each event can be considered as the main claim*"
      ]
    },
    {
      "cell_type": "code",
      "metadata": {
        "id": "rEyhz7CM_j75",
        "colab_type": "code",
        "outputId": "f6487907-0d8a-4d13-f94d-95a09a9f14b8",
        "colab": {
          "base_uri": "https://localhost:8080/",
          "height": 407
        }
      },
      "source": [
        "weibo_labels = pd.read_csv('Weibo.txt', header = None, delimiter=\"\\t\", names=[\"id\", \"label\", \"post_ids\"])\n",
        "\n",
        "weibo_labels['id'].replace(regex=True,inplace=True,to_replace=r'\\D',value=r'')\n",
        "weibo_labels['label'].replace(regex=True,inplace=True,to_replace=r'\\D',value=r'')\n",
        "\n",
        "weibo_labels['id'] = weibo_labels['id'].astype(int)\n",
        "weibo_labels['post_ids'] = weibo_labels['post_ids'].astype(str)\n",
        "weibo_labels['post_ids'] = weibo_labels['post_ids'].str.split()\n",
        "weibo_labels"
      ],
      "execution_count": 9,
      "outputs": [
        {
          "output_type": "execute_result",
          "data": {
            "text/html": [
              "<div>\n",
              "<style scoped>\n",
              "    .dataframe tbody tr th:only-of-type {\n",
              "        vertical-align: middle;\n",
              "    }\n",
              "\n",
              "    .dataframe tbody tr th {\n",
              "        vertical-align: top;\n",
              "    }\n",
              "\n",
              "    .dataframe thead th {\n",
              "        text-align: right;\n",
              "    }\n",
              "</style>\n",
              "<table border=\"1\" class=\"dataframe\">\n",
              "  <thead>\n",
              "    <tr style=\"text-align: right;\">\n",
              "      <th></th>\n",
              "      <th>id</th>\n",
              "      <th>label</th>\n",
              "      <th>post_ids</th>\n",
              "    </tr>\n",
              "  </thead>\n",
              "  <tbody>\n",
              "    <tr>\n",
              "      <th>0</th>\n",
              "      <td>10031080900</td>\n",
              "      <td>0</td>\n",
              "      <td>[10031080900, 10031139424, 10031149936, 100311...</td>\n",
              "    </tr>\n",
              "    <tr>\n",
              "      <th>1</th>\n",
              "      <td>10031994215</td>\n",
              "      <td>0</td>\n",
              "      <td>[10031994215, 10032008166, 10032010844, 100320...</td>\n",
              "    </tr>\n",
              "    <tr>\n",
              "      <th>2</th>\n",
              "      <td>10276391917</td>\n",
              "      <td>0</td>\n",
              "      <td>[10276391917, 10276408777, 10276417123, 102764...</td>\n",
              "    </tr>\n",
              "    <tr>\n",
              "      <th>3</th>\n",
              "      <td>10313557537</td>\n",
              "      <td>0</td>\n",
              "      <td>[10313557537, 10313678159, 10313758223, 103137...</td>\n",
              "    </tr>\n",
              "    <tr>\n",
              "      <th>4</th>\n",
              "      <td>10402071863</td>\n",
              "      <td>0</td>\n",
              "      <td>[10402071863, 10402138931, 10402135371, 104021...</td>\n",
              "    </tr>\n",
              "    <tr>\n",
              "      <th>...</th>\n",
              "      <td>...</td>\n",
              "      <td>...</td>\n",
              "      <td>...</td>\n",
              "    </tr>\n",
              "    <tr>\n",
              "      <th>4659</th>\n",
              "      <td>3585254264847900</td>\n",
              "      <td>1</td>\n",
              "      <td>[3585254264847900, 3585254944578740, 358525494...</td>\n",
              "    </tr>\n",
              "    <tr>\n",
              "      <th>4660</th>\n",
              "      <td>3585254046272685</td>\n",
              "      <td>1</td>\n",
              "      <td>[3585254046272685, 3585254218699522, 358525434...</td>\n",
              "    </tr>\n",
              "    <tr>\n",
              "      <th>4661</th>\n",
              "      <td>3585553637175264</td>\n",
              "      <td>1</td>\n",
              "      <td>[3585553637175264, 3585553859199477, 358555399...</td>\n",
              "    </tr>\n",
              "    <tr>\n",
              "      <th>4662</th>\n",
              "      <td>3585553678828854</td>\n",
              "      <td>1</td>\n",
              "      <td>[3585553678828854, 3585553830129434, 358555383...</td>\n",
              "    </tr>\n",
              "    <tr>\n",
              "      <th>4663</th>\n",
              "      <td>3585561417472269</td>\n",
              "      <td>1</td>\n",
              "      <td>[3585561417472269, 3585576777355935, 358557743...</td>\n",
              "    </tr>\n",
              "  </tbody>\n",
              "</table>\n",
              "<p>4664 rows × 3 columns</p>\n",
              "</div>"
            ],
            "text/plain": [
              "                    id label                                           post_ids\n",
              "0          10031080900     0  [10031080900, 10031139424, 10031149936, 100311...\n",
              "1          10031994215     0  [10031994215, 10032008166, 10032010844, 100320...\n",
              "2          10276391917     0  [10276391917, 10276408777, 10276417123, 102764...\n",
              "3          10313557537     0  [10313557537, 10313678159, 10313758223, 103137...\n",
              "4          10402071863     0  [10402071863, 10402138931, 10402135371, 104021...\n",
              "...                ...   ...                                                ...\n",
              "4659  3585254264847900     1  [3585254264847900, 3585254944578740, 358525494...\n",
              "4660  3585254046272685     1  [3585254046272685, 3585254218699522, 358525434...\n",
              "4661  3585553637175264     1  [3585553637175264, 3585553859199477, 358555399...\n",
              "4662  3585553678828854     1  [3585553678828854, 3585553830129434, 358555383...\n",
              "4663  3585561417472269     1  [3585561417472269, 3585576777355935, 358557743...\n",
              "\n",
              "[4664 rows x 3 columns]"
            ]
          },
          "metadata": {
            "tags": []
          },
          "execution_count": 9
        }
      ]
    },
    {
      "cell_type": "markdown",
      "metadata": {
        "id": "QMyT10-lUFnk",
        "colab_type": "text"
      },
      "source": [
        "Now we need to re-arrange the dataframe into a list for our model implementation, following the original paper"
      ]
    },
    {
      "cell_type": "markdown",
      "metadata": {
        "id": "n43dZUnyu6GE",
        "colab_type": "text"
      },
      "source": [
        "In this dataset above, post_ids represents our propagation path by identifying the user ids who engaged in propagating the news. \n",
        "\n",
        "This sequence as mentioned in the paper is a a variable-length multivariate time series. Therefore, we need to be able to truncated this sequence with a sequence limit or length denoted by *sequence_length* will represent this truncation"
      ]
    },
    {
      "cell_type": "code",
      "metadata": {
        "id": "_T0Kya_DS1K4",
        "colab_type": "code",
        "colab": {}
      },
      "source": [
        "# since most of our propagation paths are more than 100 sequences long, we need to create a limit to preserve sotrage capacities\n",
        "sequence_length = 10\n",
        "post_ids = weibo_labels['post_ids']\n",
        "post_ids = post_ids.values.tolist()"
      ],
      "execution_count": 0,
      "outputs": []
    },
    {
      "cell_type": "markdown",
      "metadata": {
        "id": "Nekg7xkcaWz0",
        "colab_type": "text"
      },
      "source": [
        "Now we are going to create a function definition where we will set a limit for the length of each path sequence. For the sake of convinience, we will cap each path to 10 user posts"
      ]
    },
    {
      "cell_type": "code",
      "metadata": {
        "id": "gGHNcx1QDzRt",
        "colab_type": "code",
        "outputId": "d25ecde2-ba8a-4d96-b3f6-45ab5466cf80",
        "colab": {
          "base_uri": "https://localhost:8080/",
          "height": 35
        }
      },
      "source": [
        "#capping of the sequence length of each list in the array to 10 as per the sequence_length set in the original paper\n",
        "def ListCap(list_of_lists,new_LoL):\n",
        "  \n",
        "  for list in list_of_lists:\n",
        "\n",
        "    list = list[:10]\n",
        "    new_LoL.append(list)\n",
        "\n",
        "  return new_LoL\n",
        "\n",
        "paths = list()\n",
        "paths = ListCap(post_ids,paths)\n",
        "\n",
        "print(paths[1])\n"
      ],
      "execution_count": 12,
      "outputs": [
        {
          "output_type": "stream",
          "text": [
            "['10031994215', '10032008166', '10032010844', '10032017004', '10032019110', '10032021194', '10032024018', '10032024524', '10032024896', '10032028328']\n"
          ],
          "name": "stdout"
        }
      ]
    },
    {
      "cell_type": "markdown",
      "metadata": {
        "id": "wj99PwarHpiV",
        "colab_type": "text"
      },
      "source": [
        "Note that the first id in each sample's post_id column is the same as the id of the corresponding event_id, thus indicating its original propagation path"
      ]
    },
    {
      "cell_type": "markdown",
      "metadata": {
        "id": "Yg0-9J_Wl9Fl",
        "colab_type": "text"
      },
      "source": [
        "#Pre-Processing"
      ]
    },
    {
      "cell_type": "markdown",
      "metadata": {
        "id": "XF2xs7AFr2Wi",
        "colab_type": "text"
      },
      "source": [
        "First, we need to extract the necessary features mentioned in Table 2 of the paper from the original dataset"
      ]
    },
    {
      "cell_type": "code",
      "metadata": {
        "id": "weDf6FFUj_uo",
        "colab_type": "code",
        "colab": {}
      },
      "source": [
        "# creating a new dataset using required extracted features from original dataset \n",
        "new_weibo = weibo[['id','user_description', 'username', 'followers_count'\n",
        "                   , 'friends_count', 'statuses_count', 'user_created_at'\n",
        "                   , 'verified', 'user_geo_enabled']].copy()"
      ],
      "execution_count": 0,
      "outputs": []
    },
    {
      "cell_type": "markdown",
      "metadata": {
        "id": "qRJ40AXAsh80",
        "colab_type": "text"
      },
      "source": [
        "Since the paper needs the length of each sample username and description we need to convert the Cantonese-baed text to a number. Therefore, for this exercise, we will assume that each character represents a signle character in a string and use that to count the length of each "
      ]
    },
    {
      "cell_type": "code",
      "metadata": {
        "id": "CDfam1xploLR",
        "colab_type": "code",
        "colab": {}
      },
      "source": [
        "# convert the user_description to a character counter integer value\n",
        "new_weibo['user_description']  = new_weibo['user_description'].str.len()\n",
        "\n",
        "# convert the username to a character counter integer value\n",
        "new_weibo['username']  = new_weibo['username'].str.len()"
      ],
      "execution_count": 0,
      "outputs": []
    },
    {
      "cell_type": "markdown",
      "metadata": {
        "id": "kZf0rHZ0yEqX",
        "colab_type": "text"
      },
      "source": [
        "Now we need to convert the 'user_created_at' coloumn to a resitration_ag using the first date of the conference this paper is for. Since the first day of the conference was February 2, 2018 we will use that as the starting date and subtract the difference within each cell of the column  "
      ]
    },
    {
      "cell_type": "code",
      "metadata": {
        "id": "Axnchjp-yEPP",
        "colab_type": "code",
        "colab": {}
      },
      "source": [
        "conference_date = pd.Timestamp('2018-02-02')\n",
        "\n",
        "new_weibo['registration_age'] = (conference_date - new_weibo['user_created_at']).dt.days\n",
        "weibo = new_weibo.drop(columns ='user_created_at')"
      ],
      "execution_count": 0,
      "outputs": []
    },
    {
      "cell_type": "markdown",
      "metadata": {
        "id": "uInR2GhvFynq",
        "colab_type": "text"
      },
      "source": [
        "Now our final step is to implement a conversion of our catagorical variables and normalize the features so that our model can converge faster later on in this model"
      ]
    },
    {
      "cell_type": "code",
      "metadata": {
        "id": "DneZhROCG2ld",
        "colab_type": "code",
        "colab": {}
      },
      "source": [
        "verified = pd.get_dummies(weibo['verified'], prefix='verified')\n",
        "geo_enabled = pd.get_dummies(weibo['user_geo_enabled'], prefix='user_geo_enabled')\n",
        "\n",
        "weibo = pd.concat([weibo, verified, geo_enabled], axis=1)\n",
        "\n",
        "pre_norm_weibo = weibo.drop(columns =['verified','user_geo_enabled'])\n"
      ],
      "execution_count": 0,
      "outputs": []
    },
    {
      "cell_type": "code",
      "metadata": {
        "id": "2ljH43KNOBfN",
        "colab_type": "code",
        "colab": {}
      },
      "source": [
        "x = pre_norm_weibo[['user_description', 'username', 'followers_count', \n",
        "                    'friends_count', 'statuses_count', 'registration_age',\n",
        "                    'verified_False','verified_True', 'user_geo_enabled_False',\n",
        "                   'user_geo_enabled_True']]\n",
        "\n",
        "min_max_scaler = preprocessing.MinMaxScaler()\n",
        "x_scaled = min_max_scaler.fit_transform(x)\n",
        "\n",
        "pre_norm_weibo[['user_description', 'username', 'followers_count', \n",
        "                    'friends_count', 'statuses_count', 'registration_age',\n",
        "                    'verified_False','verified_True', 'user_geo_enabled_False',\n",
        "                   'user_geo_enabled_True']] = x_scaled"
      ],
      "execution_count": 0,
      "outputs": []
    },
    {
      "cell_type": "code",
      "metadata": {
        "id": "IgrB-4R7NkhO",
        "colab_type": "code",
        "outputId": "d26db095-a1e1-45c6-e62c-a561513d4b5d",
        "colab": {
          "base_uri": "https://localhost:8080/",
          "height": 407
        }
      },
      "source": [
        "final_weibo = pre_norm_weibo\n",
        "\n",
        "final_weibo"
      ],
      "execution_count": 18,
      "outputs": [
        {
          "output_type": "execute_result",
          "data": {
            "text/html": [
              "<div>\n",
              "<style scoped>\n",
              "    .dataframe tbody tr th:only-of-type {\n",
              "        vertical-align: middle;\n",
              "    }\n",
              "\n",
              "    .dataframe tbody tr th {\n",
              "        vertical-align: top;\n",
              "    }\n",
              "\n",
              "    .dataframe thead th {\n",
              "        text-align: right;\n",
              "    }\n",
              "</style>\n",
              "<table border=\"1\" class=\"dataframe\">\n",
              "  <thead>\n",
              "    <tr style=\"text-align: right;\">\n",
              "      <th></th>\n",
              "      <th>id</th>\n",
              "      <th>user_description</th>\n",
              "      <th>username</th>\n",
              "      <th>followers_count</th>\n",
              "      <th>friends_count</th>\n",
              "      <th>statuses_count</th>\n",
              "      <th>registration_age</th>\n",
              "      <th>verified_False</th>\n",
              "      <th>verified_True</th>\n",
              "      <th>user_geo_enabled_False</th>\n",
              "      <th>user_geo_enabled_True</th>\n",
              "    </tr>\n",
              "  </thead>\n",
              "  <tbody>\n",
              "    <tr>\n",
              "      <th>0</th>\n",
              "      <td>10031080900</td>\n",
              "      <td>0.030902</td>\n",
              "      <td>0.15625</td>\n",
              "      <td>0.006613</td>\n",
              "      <td>0.2546</td>\n",
              "      <td>0.112231</td>\n",
              "      <td>0.871904</td>\n",
              "      <td>1.0</td>\n",
              "      <td>0.0</td>\n",
              "      <td>0.0</td>\n",
              "      <td>1.0</td>\n",
              "    </tr>\n",
              "    <tr>\n",
              "      <th>1</th>\n",
              "      <td>10031139424</td>\n",
              "      <td>0.018541</td>\n",
              "      <td>0.12500</td>\n",
              "      <td>0.000005</td>\n",
              "      <td>0.3892</td>\n",
              "      <td>0.006888</td>\n",
              "      <td>0.813407</td>\n",
              "      <td>1.0</td>\n",
              "      <td>0.0</td>\n",
              "      <td>0.0</td>\n",
              "      <td>1.0</td>\n",
              "    </tr>\n",
              "    <tr>\n",
              "      <th>2</th>\n",
              "      <td>10031149936</td>\n",
              "      <td>0.000000</td>\n",
              "      <td>0.50000</td>\n",
              "      <td>0.000002</td>\n",
              "      <td>0.0154</td>\n",
              "      <td>0.002238</td>\n",
              "      <td>0.798463</td>\n",
              "      <td>1.0</td>\n",
              "      <td>0.0</td>\n",
              "      <td>0.0</td>\n",
              "      <td>1.0</td>\n",
              "    </tr>\n",
              "    <tr>\n",
              "      <th>3</th>\n",
              "      <td>10031160544</td>\n",
              "      <td>0.033375</td>\n",
              "      <td>0.25000</td>\n",
              "      <td>0.000009</td>\n",
              "      <td>0.1470</td>\n",
              "      <td>0.003724</td>\n",
              "      <td>0.796755</td>\n",
              "      <td>1.0</td>\n",
              "      <td>0.0</td>\n",
              "      <td>0.0</td>\n",
              "      <td>1.0</td>\n",
              "    </tr>\n",
              "    <tr>\n",
              "      <th>4</th>\n",
              "      <td>10031160846</td>\n",
              "      <td>0.000000</td>\n",
              "      <td>0.09375</td>\n",
              "      <td>0.000001</td>\n",
              "      <td>0.0556</td>\n",
              "      <td>0.000525</td>\n",
              "      <td>0.893681</td>\n",
              "      <td>1.0</td>\n",
              "      <td>0.0</td>\n",
              "      <td>1.0</td>\n",
              "      <td>0.0</td>\n",
              "    </tr>\n",
              "    <tr>\n",
              "      <th>...</th>\n",
              "      <td>...</td>\n",
              "      <td>...</td>\n",
              "      <td>...</td>\n",
              "      <td>...</td>\n",
              "      <td>...</td>\n",
              "      <td>...</td>\n",
              "      <td>...</td>\n",
              "      <td>...</td>\n",
              "      <td>...</td>\n",
              "      <td>...</td>\n",
              "      <td>...</td>\n",
              "    </tr>\n",
              "    <tr>\n",
              "      <th>604</th>\n",
              "      <td>12284438762</td>\n",
              "      <td>0.000000</td>\n",
              "      <td>0.18750</td>\n",
              "      <td>0.000001</td>\n",
              "      <td>0.0338</td>\n",
              "      <td>0.000177</td>\n",
              "      <td>0.768147</td>\n",
              "      <td>1.0</td>\n",
              "      <td>0.0</td>\n",
              "      <td>1.0</td>\n",
              "      <td>0.0</td>\n",
              "    </tr>\n",
              "    <tr>\n",
              "      <th>605</th>\n",
              "      <td>13418764769</td>\n",
              "      <td>0.065513</td>\n",
              "      <td>0.21875</td>\n",
              "      <td>0.000006</td>\n",
              "      <td>0.0818</td>\n",
              "      <td>0.006930</td>\n",
              "      <td>0.829633</td>\n",
              "      <td>1.0</td>\n",
              "      <td>0.0</td>\n",
              "      <td>0.0</td>\n",
              "      <td>1.0</td>\n",
              "    </tr>\n",
              "    <tr>\n",
              "      <th>606</th>\n",
              "      <td>3502616032013968</td>\n",
              "      <td>0.014833</td>\n",
              "      <td>0.12500</td>\n",
              "      <td>0.000002</td>\n",
              "      <td>0.0452</td>\n",
              "      <td>0.000188</td>\n",
              "      <td>0.590521</td>\n",
              "      <td>1.0</td>\n",
              "      <td>0.0</td>\n",
              "      <td>0.0</td>\n",
              "      <td>1.0</td>\n",
              "    </tr>\n",
              "    <tr>\n",
              "      <th>607</th>\n",
              "      <td>3502794348214954</td>\n",
              "      <td>0.000000</td>\n",
              "      <td>0.28125</td>\n",
              "      <td>0.000003</td>\n",
              "      <td>0.0322</td>\n",
              "      <td>0.005327</td>\n",
              "      <td>0.887703</td>\n",
              "      <td>1.0</td>\n",
              "      <td>0.0</td>\n",
              "      <td>0.0</td>\n",
              "      <td>1.0</td>\n",
              "    </tr>\n",
              "    <tr>\n",
              "      <th>608</th>\n",
              "      <td>3502794348214829</td>\n",
              "      <td>0.000000</td>\n",
              "      <td>0.31250</td>\n",
              "      <td>0.000002</td>\n",
              "      <td>0.0548</td>\n",
              "      <td>0.005036</td>\n",
              "      <td>0.536294</td>\n",
              "      <td>1.0</td>\n",
              "      <td>0.0</td>\n",
              "      <td>0.0</td>\n",
              "      <td>1.0</td>\n",
              "    </tr>\n",
              "  </tbody>\n",
              "</table>\n",
              "<p>3805656 rows × 11 columns</p>\n",
              "</div>"
            ],
            "text/plain": [
              "                   id  ...  user_geo_enabled_True\n",
              "0         10031080900  ...                    1.0\n",
              "1         10031139424  ...                    1.0\n",
              "2         10031149936  ...                    1.0\n",
              "3         10031160544  ...                    1.0\n",
              "4         10031160846  ...                    0.0\n",
              "..                ...  ...                    ...\n",
              "604       12284438762  ...                    0.0\n",
              "605       13418764769  ...                    1.0\n",
              "606  3502616032013968  ...                    1.0\n",
              "607  3502794348214954  ...                    1.0\n",
              "608  3502794348214829  ...                    1.0\n",
              "\n",
              "[3805656 rows x 11 columns]"
            ]
          },
          "metadata": {
            "tags": []
          },
          "execution_count": 18
        }
      ]
    },
    {
      "cell_type": "code",
      "metadata": {
        "id": "oeLtPCGwnU7Z",
        "colab_type": "code",
        "outputId": "65429cbf-f553-4c4d-dc1c-c38b51827038",
        "colab": {
          "base_uri": "https://localhost:8080/",
          "height": 198
        }
      },
      "source": [
        "weibo = pd.merge(final_weibo, weibo_labels, on='id')\n",
        "weibo = weibo.drop(['post_ids','id'], axis = 1)\n",
        "weibo['label'] = weibo['label'].astype(int)\n",
        "weibo.head()"
      ],
      "execution_count": 19,
      "outputs": [
        {
          "output_type": "execute_result",
          "data": {
            "text/html": [
              "<div>\n",
              "<style scoped>\n",
              "    .dataframe tbody tr th:only-of-type {\n",
              "        vertical-align: middle;\n",
              "    }\n",
              "\n",
              "    .dataframe tbody tr th {\n",
              "        vertical-align: top;\n",
              "    }\n",
              "\n",
              "    .dataframe thead th {\n",
              "        text-align: right;\n",
              "    }\n",
              "</style>\n",
              "<table border=\"1\" class=\"dataframe\">\n",
              "  <thead>\n",
              "    <tr style=\"text-align: right;\">\n",
              "      <th></th>\n",
              "      <th>user_description</th>\n",
              "      <th>username</th>\n",
              "      <th>followers_count</th>\n",
              "      <th>friends_count</th>\n",
              "      <th>statuses_count</th>\n",
              "      <th>registration_age</th>\n",
              "      <th>verified_False</th>\n",
              "      <th>verified_True</th>\n",
              "      <th>user_geo_enabled_False</th>\n",
              "      <th>user_geo_enabled_True</th>\n",
              "      <th>label</th>\n",
              "    </tr>\n",
              "  </thead>\n",
              "  <tbody>\n",
              "    <tr>\n",
              "      <th>0</th>\n",
              "      <td>0.030902</td>\n",
              "      <td>0.15625</td>\n",
              "      <td>0.006613</td>\n",
              "      <td>0.2546</td>\n",
              "      <td>0.112231</td>\n",
              "      <td>0.871904</td>\n",
              "      <td>1.0</td>\n",
              "      <td>0.0</td>\n",
              "      <td>0.0</td>\n",
              "      <td>1.0</td>\n",
              "      <td>0</td>\n",
              "    </tr>\n",
              "    <tr>\n",
              "      <th>1</th>\n",
              "      <td>0.021014</td>\n",
              "      <td>0.18750</td>\n",
              "      <td>0.023485</td>\n",
              "      <td>0.0500</td>\n",
              "      <td>0.055124</td>\n",
              "      <td>0.933390</td>\n",
              "      <td>1.0</td>\n",
              "      <td>0.0</td>\n",
              "      <td>1.0</td>\n",
              "      <td>0.0</td>\n",
              "      <td>0</td>\n",
              "    </tr>\n",
              "    <tr>\n",
              "      <th>2</th>\n",
              "      <td>0.065513</td>\n",
              "      <td>0.18750</td>\n",
              "      <td>0.071509</td>\n",
              "      <td>0.1850</td>\n",
              "      <td>0.077547</td>\n",
              "      <td>0.909906</td>\n",
              "      <td>1.0</td>\n",
              "      <td>0.0</td>\n",
              "      <td>0.0</td>\n",
              "      <td>1.0</td>\n",
              "      <td>0</td>\n",
              "    </tr>\n",
              "    <tr>\n",
              "      <th>3</th>\n",
              "      <td>0.040791</td>\n",
              "      <td>0.06250</td>\n",
              "      <td>0.000860</td>\n",
              "      <td>0.0398</td>\n",
              "      <td>0.000313</td>\n",
              "      <td>0.764304</td>\n",
              "      <td>0.0</td>\n",
              "      <td>1.0</td>\n",
              "      <td>1.0</td>\n",
              "      <td>0.0</td>\n",
              "      <td>0</td>\n",
              "    </tr>\n",
              "    <tr>\n",
              "      <th>4</th>\n",
              "      <td>0.074166</td>\n",
              "      <td>0.18750</td>\n",
              "      <td>0.007925</td>\n",
              "      <td>0.0000</td>\n",
              "      <td>0.017776</td>\n",
              "      <td>0.925705</td>\n",
              "      <td>1.0</td>\n",
              "      <td>0.0</td>\n",
              "      <td>1.0</td>\n",
              "      <td>0.0</td>\n",
              "      <td>0</td>\n",
              "    </tr>\n",
              "  </tbody>\n",
              "</table>\n",
              "</div>"
            ],
            "text/plain": [
              "   user_description  username  ...  user_geo_enabled_True  label\n",
              "0          0.030902   0.15625  ...                    1.0      0\n",
              "1          0.021014   0.18750  ...                    0.0      0\n",
              "2          0.065513   0.18750  ...                    1.0      0\n",
              "3          0.040791   0.06250  ...                    0.0      0\n",
              "4          0.074166   0.18750  ...                    0.0      0\n",
              "\n",
              "[5 rows x 11 columns]"
            ]
          },
          "metadata": {
            "tags": []
          },
          "execution_count": 19
        }
      ]
    },
    {
      "cell_type": "code",
      "metadata": {
        "id": "DMcLkxmd4eT9",
        "colab_type": "code",
        "outputId": "b8213b91-7d76-462c-eb44-3dd8626369b0",
        "colab": {
          "base_uri": "https://localhost:8080/",
          "height": 35
        }
      },
      "source": [
        "#converting our dataframe of user characteristics into a list\n",
        "features = weibo.values.tolist()\n",
        "len(features)"
      ],
      "execution_count": 20,
      "outputs": [
        {
          "output_type": "execute_result",
          "data": {
            "text/plain": [
              "4718"
            ]
          },
          "metadata": {
            "tags": []
          },
          "execution_count": 20
        }
      ]
    },
    {
      "cell_type": "markdown",
      "metadata": {
        "id": "EVSo20LNUp48",
        "colab_type": "text"
      },
      "source": [
        "Now we have our finalized training dataset loaded and ready to use with our models. \n",
        "\n",
        "These features are the xj characterstic features of each user in the fixed-length multivariate sequence \n",
        "\n",
        "Before we begin doing that, we need to established the split of training. testing and validation percentages from this particular dataset. Based on the paper, 10% of the original *Weibo* dataset is used for validation, while the training and testing portion of the data set make a 3:1 ratio, respectively.\n",
        "\n",
        "The following quick function definition will let us split the dataset into the appropriate sections"
      ]
    },
    {
      "cell_type": "code",
      "metadata": {
        "id": "AnB-9YjabGfU",
        "colab_type": "code",
        "outputId": "22e257a3-d151-448a-e3ad-69ae60867174",
        "colab": {
          "base_uri": "https://localhost:8080/",
          "height": 55
        }
      },
      "source": [
        "#list of propagation paths\n",
        "new_paths = []\n",
        "\n",
        "#feature counter\n",
        "i = 0\n",
        "\n",
        "# for each tweet propgation\n",
        "for path in paths:\n",
        "\n",
        "  #create a new tweet path\n",
        "  new_path = []\n",
        "\n",
        "  # for each user that contributed to that tweet propagation\n",
        "  for user_id in path:\n",
        "\n",
        "    # conditional statement to make sure we are iterating through the entire set of features we converted to a list above\n",
        "    if i < len(features) and ((i % 10 != 0) or i <= 10 or i >10):\n",
        "\n",
        "      #assign the features to that corresponding id\n",
        "      user_id = features[i]\n",
        "      #add those user characteristics to the list of this path\n",
        "      new_path.append(user_id)\n",
        "      i += 1\n",
        "\n",
        "  #add path to the list of current paths    \n",
        "  new_paths.append(new_path)\n",
        "\n",
        "# cutting our list down for memory management\n",
        "# therefore we have exactly 470 propagation paths\n",
        "\n",
        "new_paths = new_paths[0:471]\n",
        "\n",
        "print(new_paths[2])"
      ],
      "execution_count": 93,
      "outputs": [
        {
          "output_type": "stream",
          "text": [
            "[[0.044499381953028425, 0.21875, 4.6402377935854325e-05, 0.0074, 0.000491512984695767, 0.77198975234842, 1.0, 0.0, 1.0, 0.0, 0.0], [0.3485784919653893, 0.15625, 0.002777977050902068, 0.2934, 0.05255630035964131, 0.8573868488471392, 0.0, 1.0, 0.0, 1.0, 0.0], [0.09394313967861556, 0.1875, 0.0008337324535001359, 0.0064, 0.00263935739727042, 0.8198121263877027, 0.0, 1.0, 1.0, 0.0, 1.0], [0.08281829419035847, 0.09375, 0.010066288775081051, 0.547, 0.057405061525690936, 0.9940222032450896, 0.0, 1.0, 0.0, 1.0, 0.0], [0.034610630407911, 0.125, 0.011643727707472505, 0.028, 0.03712991044075538, 0.812126387702818, 1.0, 0.0, 0.0, 1.0, 1.0], [0.018541409147095178, 0.1875, 0.00010371065503994947, 0.2674, 0.0031472220859580227, 0.8569598633646456, 1.0, 0.0, 0.0, 1.0, 0.0], [0.12360939431396785, 0.125, 0.0016883417271706513, 0.0538, 0.00804022903927968, 0.9829205807002561, 0.0, 1.0, 0.0, 1.0, 0.0], [0.0630407911001236, 0.15625, 0.012995196147565656, 0.007, 0.04475557569059498, 0.7527754056362084, 1.0, 0.0, 1.0, 0.0, 0.0], [0.12731767614338688, 0.125, 0.06847608131009507, 0.21980000000000002, 0.05432997931028513, 0.9940222032450896, 0.0, 1.0, 0.0, 1.0, 0.0], [0.028430160692212606, 0.09375, 0.012600668053014805, 0.5092, 0.002670137075372699, 0.8202391118701964, 0.0, 1.0, 0.0, 1.0, 0.0]]\n"
          ],
          "name": "stdout"
        }
      ]
    },
    {
      "cell_type": "markdown",
      "metadata": {
        "id": "EubVEoHApb6V",
        "colab_type": "text"
      },
      "source": [
        "# Converting The List of Lists into Tuple of Tuples "
      ]
    },
    {
      "cell_type": "markdown",
      "metadata": {
        "id": "EYsrfK_ypf8F",
        "colab_type": "text"
      },
      "source": [
        "Now we need to convert it into a format where we can convert each path into a dataframe"
      ]
    },
    {
      "cell_type": "code",
      "metadata": {
        "id": "RQeCioouULJb",
        "colab_type": "code",
        "outputId": "5ea4907c-bd32-441f-a280-7a1dfccb019d",
        "colab": {
          "base_uri": "https://localhost:8080/",
          "height": 563
        }
      },
      "source": [
        "#create a list of dataframes\n",
        "df_list = list()\n",
        "i = 0\n",
        "\n",
        "#for each path we will convert the path into a tuple\n",
        "for new_path in new_paths:\n",
        "\n",
        "  #for each user in the current path\n",
        "  for user_chars in new_path:\n",
        "    \n",
        "    new_paths = tuple(tuple(tuple(user_chars) for user_chars in new_path) for new_path in new_paths)\n",
        "  \n",
        "  if i < len(new_paths):\n",
        "\n",
        "    df_list.append(pd.DataFrame(new_paths[i]))\n",
        "    i += 1\n",
        "\n",
        "#combine each dataframe into a single dataframe\n",
        "df = np.stack(df_list)\n",
        "df.shape\n",
        "print(df[1,:,:10])"
      ],
      "execution_count": 134,
      "outputs": [
        {
          "output_type": "stream",
          "text": [
            "[[4.57354759e-02 3.43750000e-01 6.79918738e-05 2.44000000e-02\n",
            "  1.06767008e-04 7.32707088e-01 1.00000000e+00 0.00000000e+00\n",
            "  0.00000000e+00 1.00000000e+00 0.00000000e+00]\n",
            " [1.97775031e-02 2.18750000e-01 7.21926064e-03 2.78000000e-02\n",
            "  4.58251695e-02 8.56959863e-01 1.00000000e+00 0.00000000e+00\n",
            "  0.00000000e+00 1.00000000e+00 1.00000000e+00]\n",
            " [5.56242274e-02 6.25000000e-02 2.46831817e-02 1.49800000e-01\n",
            "  3.33574761e-03 8.04440649e-01 0.00000000e+00 1.00000000e+00\n",
            "  0.00000000e+00 1.00000000e+00 1.00000000e+00]\n",
            " [2.34857849e-02 1.87500000e-01 9.75044923e-04 2.02000000e-02\n",
            "  1.97961423e-02 7.22886422e-01 1.00000000e+00 0.00000000e+00\n",
            "  0.00000000e+00 1.00000000e+00 1.00000000e+00]\n",
            " [6.05686032e-02 1.87500000e-01 3.93641500e-03 2.00000000e-04\n",
            "  1.28293546e-02 9.44491887e-01 1.00000000e+00 0.00000000e+00\n",
            "  0.00000000e+00 1.00000000e+00 0.00000000e+00]\n",
            " [4.69715698e-02 1.56250000e-01 1.05878366e-02 6.18000000e-02\n",
            "  2.27836949e-02 7.89496157e-01 1.00000000e+00 0.00000000e+00\n",
            "  0.00000000e+00 1.00000000e+00 0.00000000e+00]\n",
            " [6.79851669e-02 1.56250000e-01 5.58580148e-03 3.74600000e-01\n",
            "  9.29161533e-03 9.02220325e-01 0.00000000e+00 1.00000000e+00\n",
            "  1.00000000e+00 0.00000000e+00 1.00000000e+00]\n",
            " [4.69715698e-02 1.56250000e-01 1.35031508e-02 1.31200000e-01\n",
            "  1.62247378e-02 8.87702818e-01 0.00000000e+00 1.00000000e+00\n",
            "  1.00000000e+00 0.00000000e+00 0.00000000e+00]\n",
            " [7.66378245e-02 1.25000000e-01 8.15519275e-02 2.75400000e-01\n",
            "  8.80019853e-02 9.94022203e-01 0.00000000e+00 1.00000000e+00\n",
            "  1.00000000e+00 0.00000000e+00 0.00000000e+00]\n",
            " [3.33745365e-02 1.25000000e-01 4.29799655e-03 1.07200000e-01\n",
            "  4.41159355e-02 7.93339026e-01 0.00000000e+00 1.00000000e+00\n",
            "  0.00000000e+00 1.00000000e+00 1.00000000e+00]]\n"
          ],
          "name": "stdout"
        }
      ]
    },
    {
      "cell_type": "markdown",
      "metadata": {
        "id": "bI2SJsE30uL8",
        "colab_type": "text"
      },
      "source": [
        "#Converting Into Tensor Dataset"
      ]
    },
    {
      "cell_type": "markdown",
      "metadata": {
        "id": "pIwJocod1utp",
        "colab_type": "text"
      },
      "source": [
        "Before we run our model on the training and testing features and labels we need to convert the pandas dataframe into a tensor dataset"
      ]
    },
    {
      "cell_type": "markdown",
      "metadata": {
        "id": "bluBj6_EFe_v",
        "colab_type": "text"
      },
      "source": [
        "#RNN-Based Propagation Path Representation"
      ]
    },
    {
      "cell_type": "markdown",
      "metadata": {
        "id": "MM784UBXbvP4",
        "colab_type": "text"
      },
      "source": [
        "Based on the paper, the values fo the input dimensions, hidden dimensions, output dimenison, and dropout rate are as follows:\n",
        "\n",
        "**GRU output dim: 32**\n",
        "\n",
        "**Dropout rate: 0.5**"
      ]
    },
    {
      "cell_type": "markdown",
      "metadata": {
        "id": "h4Srm6VlQU3i",
        "colab_type": "text"
      },
      "source": [
        "### GRU Model Class Definition"
      ]
    },
    {
      "cell_type": "markdown",
      "metadata": {
        "id": "pDGE2l9ho4-Q",
        "colab_type": "text"
      },
      "source": [
        "As done in the paper, we will begin with defining our Recurrent Neural Network architecture, a Gated-Recurrent Unit (GRU).\n",
        "\n",
        "This model will be introduced using a *'class'* object with multiple definitions inside:\n",
        "\n",
        "\n",
        "The **init** function definition represents the initialization of our GRU paramters defined from the paper and implemented into the PyTorch NN package "
      ]
    },
    {
      "cell_type": "code",
      "metadata": {
        "id": "rTg86_2IRyOm",
        "colab_type": "code",
        "colab": {}
      },
      "source": [
        "class RNNEncoder(nn.Module):\n",
        "    def __init__(self, input_size, hidden_size, num_layers):\n",
        "        super(RNNEncoder, self).__init__()\n",
        "        self.hidden_size = hidden_size\n",
        "        self.rnn_encoder = nn.GRU(input_size=input_size, hidden_size=hidden_size, num_layers=num_layers, batch_first=True)\n",
        "\n",
        "    def forward(self, x: torch.Tensor, h_0: torch.Tensor)->torch.Tensor:\n",
        "        # x.shape: Batch x sequence length x input_size\n",
        "        # h_0.shape:\n",
        "        # output.shape: batch x sequence length x input_size\n",
        "        output, h_n = self.rnn_encoder(x, h_0)\n",
        "\n",
        "        # output.shape: batch x input_size\n",
        "        output = output.mean(dim=1)\n",
        "        return output\n"
      ],
      "execution_count": 0,
      "outputs": []
    },
    {
      "cell_type": "markdown",
      "metadata": {
        "id": "M8PqfxUma2VB",
        "colab_type": "text"
      },
      "source": [
        "#CNN-Based Propagation Path Representation "
      ]
    },
    {
      "cell_type": "code",
      "metadata": {
        "id": "7vPWV57AawoT",
        "colab_type": "code",
        "colab": {}
      },
      "source": [
        "class CNNEncoder(nn.Module):\n",
        "  \n",
        "    def __init__(self, out_channels: int, kernel_size: tuple):\n",
        "        super(CNNEncoder, self).__init__()\n",
        "        self.cnn_encoder = nn.Conv2d(in_channels=1, out_channels=out_channels, kernel_size=kernel_size)\n",
        "\n",
        "    def forward(self, x: torch.Tensor):\n",
        "        # x.shape: batch x sequence length x kernel_size[1](input_size)\n",
        "        # x.shape: batch x 1 x sequence length x kernel_size[1]\n",
        "        x = x.unsqueeze(dim=1)\n",
        "        # output.shape: batch x out_channels x sequence length - kernel_size[0] + 1\n",
        "        output = F.relu(self.cnn_encoder(x))\n",
        "        # output.shape: batch x out_channels\n",
        "        output = output.mean(dim=2)\n",
        "        return output"
      ],
      "execution_count": 0,
      "outputs": []
    },
    {
      "cell_type": "markdown",
      "metadata": {
        "id": "7jWVLWGTe_hW",
        "colab_type": "text"
      },
      "source": [
        "#Concatenating RNN & CNN Outputs"
      ]
    },
    {
      "cell_type": "code",
      "metadata": {
        "id": "HCsPrAjwFo6p",
        "colab_type": "code",
        "colab": {}
      },
      "source": [
        "class DetectModel(nn.Module):\n",
        "    def __init__(self, input_size,\n",
        "                 hidden_size, rnn_layers,\n",
        "                 out_channels, height, cnn_layers,\n",
        "                 linear_hidden_size, linear_layers, output_size):\n",
        "        super(DetectModel, self).__init__()\n",
        "        self.rnn_encoder = RNNEncoder(input_size=input_size, hidden_size=hidden_size, num_layers=rnn_layers)\n",
        "        self.cnn_encoder = CNNEncoder(out_channels=out_channels, kernel_size=(height, input_size))\n",
        "\n",
        "        self.linear = nn.Sequential(\n",
        "            nn.Linear(hidden_size + out_channels, linear_hidden_size), nn.ReLU(inplace=True),\n",
        "            *chain(*[(nn.Linear(linear_hidden_size, linear_hidden_size), nn.ReLU(inplace=True)) for i in range(linear_layers - 2)]),\n",
        "            nn.Linear(linear_hidden_size, output_size)\n",
        "        )\n",
        "\n",
        "    def forward(self, x, h_0):\n",
        "        # h0 for rnn_encoder\n",
        "        rnn_output = self.rnn_encoder(x, h_0)\n",
        "        cnn_output = self.cnn_encoder(x)\n",
        "        cnn_output = cnn_output.squeeze()\n",
        "\n",
        "        # output.shape: batch x (hidden_size + out_channels)\n",
        "        # output.shape: batch x output_size\n",
        "        output = torch.cat([rnn_output, cnn_output], dim=1)\n",
        "        output = self.linear(output)\n",
        "\n",
        "        return output"
      ],
      "execution_count": 0,
      "outputs": []
    },
    {
      "cell_type": "markdown",
      "metadata": {
        "id": "-_rTjPfCSIrq",
        "colab_type": "text"
      },
      "source": [
        "## Defining Model Parameters and Implementation"
      ]
    },
    {
      "cell_type": "code",
      "metadata": {
        "id": "0HQcGmB7SUmq",
        "colab_type": "code",
        "colab": {}
      },
      "source": [
        "from itertools import chain"
      ],
      "execution_count": 0,
      "outputs": []
    },
    {
      "cell_type": "code",
      "metadata": {
        "id": "Nis3CzgwR96l",
        "colab_type": "code",
        "colab": {}
      },
      "source": [
        "input_size = 10\n",
        "hidden_size = 5\n",
        "out_channels = 32\n",
        "height = 3\n",
        "linear_hidden_size = 20\n",
        "linear_layers = 5\n",
        "output_size = 2\n",
        "num_layers = 1\n",
        "batch_size = 15"
      ],
      "execution_count": 0,
      "outputs": []
    },
    {
      "cell_type": "markdown",
      "metadata": {
        "id": "3Q8LFXsFet0T",
        "colab_type": "text"
      },
      "source": [
        "#Defining Loss Function and Optimizer "
      ]
    },
    {
      "cell_type": "markdown",
      "metadata": {
        "id": "dOnDcawIwqoN",
        "colab_type": "text"
      },
      "source": [
        "In this segment, we will quickly define our model optimatizer and criterion, as well as our learning rate, which is subject to change as we experiment "
      ]
    },
    {
      "cell_type": "code",
      "metadata": {
        "id": "-mol3QnT8xpt",
        "colab_type": "code",
        "colab": {}
      },
      "source": [
        "import torch.optim as optim"
      ],
      "execution_count": 0,
      "outputs": []
    },
    {
      "cell_type": "code",
      "metadata": {
        "id": "ouhdhw4yTFCG",
        "colab_type": "code",
        "colab": {}
      },
      "source": [
        "lr = 0.1\n",
        "\n",
        "optimizer = optim.Adam(params=model.parameters(), lr=lr)\n",
        "criterion = nn.CrossEntropyLoss(reduction='mean')\n",
        "initial_hidden_state = torch.zeros(num_layers,batch_size, hidden_size, dtype=torch.float, requires_grad=False)  "
      ],
      "execution_count": 0,
      "outputs": []
    },
    {
      "cell_type": "markdown",
      "metadata": {
        "id": "O18Ht2aJZ5SX",
        "colab_type": "text"
      },
      "source": [
        "#Training Our Model"
      ]
    },
    {
      "cell_type": "code",
      "metadata": {
        "id": "r5Pdb_Q7IE6r",
        "colab_type": "code",
        "outputId": "68f54866-b81c-4af0-e033-018affb2053a",
        "colab": {
          "base_uri": "https://localhost:8080/",
          "height": 451
        }
      },
      "source": [
        "#based on the original paper, we will iterate over 200 epochs\n",
        "epochs = 200\n",
        "\n",
        "#seperate our features and labels\n",
        "X = df[:,:,:10]\n",
        "y = df[:,:,:11]\n",
        "\n",
        "#splitting our training and testing data  \n",
        "X_train, X_test, y_train, y_test = train_test_split(X, y, test_size=0.3, random_state=1)\n",
        "\n",
        "#creating our training tensors  \n",
        "train_y = torch.tensor(y_train)\n",
        "train_x = torch.tensor(X_train) \n",
        "\n",
        "#creating our testing tensors  \n",
        "test_y = torch.tensor(y_test)\n",
        "test_x = torch.tensor(X_test)\n",
        "\n",
        "train = TensorDataset(train_x, train_y)\n",
        "test = TensorDataset(test_x, test_y) \n",
        "\n",
        "#creating our training and testing loaders  \n",
        "train_loader = DataLoader(dataset = train, batch_size = batch_size, shuffle = True)\n",
        "test_loader = DataLoader(dataset = test, batch_size = batch_size, shuffle = True)\n",
        "\n",
        "#let pytorch know that we are training  \n",
        "model.train()\n",
        " \n",
        "for epoch in range(epochs):\n",
        "   \n",
        "  #iterate through training dataset \n",
        "  for step, (inputs,y) in enumerate(train_loader):\n",
        "     \n",
        "    optimizer.zero_grad()\n",
        "    inputs = torch.tensor(inputs,dtype=torch.float, requires_grad=False)\n",
        "    y = torch.tensor(y, dtype=torch.long, requires_grad=False)\n",
        "\n",
        "    output = model(inputs, initial_hidden_state)\n",
        "\n",
        "    loss = criterion(output, y)\n",
        "                      \n",
        "    loss.backward()\n",
        "\n",
        "    optimizer.step()\n",
        "\n",
        "  print(\"Epoch: {:3,} / Loss: {:10.5f} / Learning rate: {:.4f}\".format(epoch, loss.item(), lr))\n"
      ],
      "execution_count": 195,
      "outputs": [
        {
          "output_type": "stream",
          "text": [
            "/usr/local/lib/python3.6/dist-packages/ipykernel_launcher.py:34: UserWarning: To copy construct from a tensor, it is recommended to use sourceTensor.clone().detach() or sourceTensor.clone().detach().requires_grad_(True), rather than torch.tensor(sourceTensor).\n",
            "/usr/local/lib/python3.6/dist-packages/ipykernel_launcher.py:35: UserWarning: To copy construct from a tensor, it is recommended to use sourceTensor.clone().detach() or sourceTensor.clone().detach().requires_grad_(True), rather than torch.tensor(sourceTensor).\n"
          ],
          "name": "stderr"
        },
        {
          "output_type": "error",
          "ename": "RuntimeError",
          "evalue": "ignored",
          "traceback": [
            "\u001b[0;31m---------------------------------------------------------------------------\u001b[0m",
            "\u001b[0;31mRuntimeError\u001b[0m                              Traceback (most recent call last)",
            "\u001b[0;32m<ipython-input-195-024708f14bde>\u001b[0m in \u001b[0;36m<module>\u001b[0;34m()\u001b[0m\n\u001b[1;32m     35\u001b[0m     \u001b[0my\u001b[0m \u001b[0;34m=\u001b[0m \u001b[0mtorch\u001b[0m\u001b[0;34m.\u001b[0m\u001b[0mtensor\u001b[0m\u001b[0;34m(\u001b[0m\u001b[0my\u001b[0m\u001b[0;34m,\u001b[0m \u001b[0mdtype\u001b[0m\u001b[0;34m=\u001b[0m\u001b[0mtorch\u001b[0m\u001b[0;34m.\u001b[0m\u001b[0mlong\u001b[0m\u001b[0;34m,\u001b[0m \u001b[0mrequires_grad\u001b[0m\u001b[0;34m=\u001b[0m\u001b[0;32mFalse\u001b[0m\u001b[0;34m)\u001b[0m\u001b[0;34m\u001b[0m\u001b[0;34m\u001b[0m\u001b[0m\n\u001b[1;32m     36\u001b[0m \u001b[0;34m\u001b[0m\u001b[0m\n\u001b[0;32m---> 37\u001b[0;31m     \u001b[0moutput\u001b[0m \u001b[0;34m=\u001b[0m \u001b[0mmodel\u001b[0m\u001b[0;34m(\u001b[0m\u001b[0minputs\u001b[0m\u001b[0;34m,\u001b[0m \u001b[0minitial_hidden_state\u001b[0m\u001b[0;34m)\u001b[0m\u001b[0;34m\u001b[0m\u001b[0;34m\u001b[0m\u001b[0m\n\u001b[0m\u001b[1;32m     38\u001b[0m \u001b[0;34m\u001b[0m\u001b[0m\n\u001b[1;32m     39\u001b[0m     \u001b[0mloss\u001b[0m \u001b[0;34m=\u001b[0m \u001b[0mcriterion\u001b[0m\u001b[0;34m(\u001b[0m\u001b[0moutput\u001b[0m\u001b[0;34m,\u001b[0m \u001b[0my\u001b[0m\u001b[0;34m)\u001b[0m\u001b[0;34m\u001b[0m\u001b[0;34m\u001b[0m\u001b[0m\n",
            "\u001b[0;32m/usr/local/lib/python3.6/dist-packages/torch/nn/modules/module.py\u001b[0m in \u001b[0;36m__call__\u001b[0;34m(self, *input, **kwargs)\u001b[0m\n\u001b[1;32m    539\u001b[0m             \u001b[0mresult\u001b[0m \u001b[0;34m=\u001b[0m \u001b[0mself\u001b[0m\u001b[0;34m.\u001b[0m\u001b[0m_slow_forward\u001b[0m\u001b[0;34m(\u001b[0m\u001b[0;34m*\u001b[0m\u001b[0minput\u001b[0m\u001b[0;34m,\u001b[0m \u001b[0;34m**\u001b[0m\u001b[0mkwargs\u001b[0m\u001b[0;34m)\u001b[0m\u001b[0;34m\u001b[0m\u001b[0;34m\u001b[0m\u001b[0m\n\u001b[1;32m    540\u001b[0m         \u001b[0;32melse\u001b[0m\u001b[0;34m:\u001b[0m\u001b[0;34m\u001b[0m\u001b[0;34m\u001b[0m\u001b[0m\n\u001b[0;32m--> 541\u001b[0;31m             \u001b[0mresult\u001b[0m \u001b[0;34m=\u001b[0m \u001b[0mself\u001b[0m\u001b[0;34m.\u001b[0m\u001b[0mforward\u001b[0m\u001b[0;34m(\u001b[0m\u001b[0;34m*\u001b[0m\u001b[0minput\u001b[0m\u001b[0;34m,\u001b[0m \u001b[0;34m**\u001b[0m\u001b[0mkwargs\u001b[0m\u001b[0;34m)\u001b[0m\u001b[0;34m\u001b[0m\u001b[0;34m\u001b[0m\u001b[0m\n\u001b[0m\u001b[1;32m    542\u001b[0m         \u001b[0;32mfor\u001b[0m \u001b[0mhook\u001b[0m \u001b[0;32min\u001b[0m \u001b[0mself\u001b[0m\u001b[0;34m.\u001b[0m\u001b[0m_forward_hooks\u001b[0m\u001b[0;34m.\u001b[0m\u001b[0mvalues\u001b[0m\u001b[0;34m(\u001b[0m\u001b[0;34m)\u001b[0m\u001b[0;34m:\u001b[0m\u001b[0;34m\u001b[0m\u001b[0;34m\u001b[0m\u001b[0m\n\u001b[1;32m    543\u001b[0m             \u001b[0mhook_result\u001b[0m \u001b[0;34m=\u001b[0m \u001b[0mhook\u001b[0m\u001b[0;34m(\u001b[0m\u001b[0mself\u001b[0m\u001b[0;34m,\u001b[0m \u001b[0minput\u001b[0m\u001b[0;34m,\u001b[0m \u001b[0mresult\u001b[0m\u001b[0;34m)\u001b[0m\u001b[0;34m\u001b[0m\u001b[0;34m\u001b[0m\u001b[0m\n",
            "\u001b[0;32m<ipython-input-26-e8a1d52dffba>\u001b[0m in \u001b[0;36mforward\u001b[0;34m(self, x, h_0)\u001b[0m\n\u001b[1;32m     16\u001b[0m     \u001b[0;32mdef\u001b[0m \u001b[0mforward\u001b[0m\u001b[0;34m(\u001b[0m\u001b[0mself\u001b[0m\u001b[0;34m,\u001b[0m \u001b[0mx\u001b[0m\u001b[0;34m,\u001b[0m \u001b[0mh_0\u001b[0m\u001b[0;34m)\u001b[0m\u001b[0;34m:\u001b[0m\u001b[0;34m\u001b[0m\u001b[0;34m\u001b[0m\u001b[0m\n\u001b[1;32m     17\u001b[0m         \u001b[0;31m# h0 for rnn_encoder\u001b[0m\u001b[0;34m\u001b[0m\u001b[0;34m\u001b[0m\u001b[0;34m\u001b[0m\u001b[0m\n\u001b[0;32m---> 18\u001b[0;31m         \u001b[0mrnn_output\u001b[0m \u001b[0;34m=\u001b[0m \u001b[0mself\u001b[0m\u001b[0;34m.\u001b[0m\u001b[0mrnn_encoder\u001b[0m\u001b[0;34m(\u001b[0m\u001b[0mx\u001b[0m\u001b[0;34m,\u001b[0m \u001b[0mh_0\u001b[0m\u001b[0;34m)\u001b[0m\u001b[0;34m\u001b[0m\u001b[0;34m\u001b[0m\u001b[0m\n\u001b[0m\u001b[1;32m     19\u001b[0m         \u001b[0mcnn_output\u001b[0m \u001b[0;34m=\u001b[0m \u001b[0mself\u001b[0m\u001b[0;34m.\u001b[0m\u001b[0mcnn_encoder\u001b[0m\u001b[0;34m(\u001b[0m\u001b[0mx\u001b[0m\u001b[0;34m)\u001b[0m\u001b[0;34m\u001b[0m\u001b[0;34m\u001b[0m\u001b[0m\n\u001b[1;32m     20\u001b[0m         \u001b[0mcnn_output\u001b[0m \u001b[0;34m=\u001b[0m \u001b[0mcnn_output\u001b[0m\u001b[0;34m.\u001b[0m\u001b[0msqueeze\u001b[0m\u001b[0;34m(\u001b[0m\u001b[0;34m)\u001b[0m\u001b[0;34m\u001b[0m\u001b[0;34m\u001b[0m\u001b[0m\n",
            "\u001b[0;32m/usr/local/lib/python3.6/dist-packages/torch/nn/modules/module.py\u001b[0m in \u001b[0;36m__call__\u001b[0;34m(self, *input, **kwargs)\u001b[0m\n\u001b[1;32m    539\u001b[0m             \u001b[0mresult\u001b[0m \u001b[0;34m=\u001b[0m \u001b[0mself\u001b[0m\u001b[0;34m.\u001b[0m\u001b[0m_slow_forward\u001b[0m\u001b[0;34m(\u001b[0m\u001b[0;34m*\u001b[0m\u001b[0minput\u001b[0m\u001b[0;34m,\u001b[0m \u001b[0;34m**\u001b[0m\u001b[0mkwargs\u001b[0m\u001b[0;34m)\u001b[0m\u001b[0;34m\u001b[0m\u001b[0;34m\u001b[0m\u001b[0m\n\u001b[1;32m    540\u001b[0m         \u001b[0;32melse\u001b[0m\u001b[0;34m:\u001b[0m\u001b[0;34m\u001b[0m\u001b[0;34m\u001b[0m\u001b[0m\n\u001b[0;32m--> 541\u001b[0;31m             \u001b[0mresult\u001b[0m \u001b[0;34m=\u001b[0m \u001b[0mself\u001b[0m\u001b[0;34m.\u001b[0m\u001b[0mforward\u001b[0m\u001b[0;34m(\u001b[0m\u001b[0;34m*\u001b[0m\u001b[0minput\u001b[0m\u001b[0;34m,\u001b[0m \u001b[0;34m**\u001b[0m\u001b[0mkwargs\u001b[0m\u001b[0;34m)\u001b[0m\u001b[0;34m\u001b[0m\u001b[0;34m\u001b[0m\u001b[0m\n\u001b[0m\u001b[1;32m    542\u001b[0m         \u001b[0;32mfor\u001b[0m \u001b[0mhook\u001b[0m \u001b[0;32min\u001b[0m \u001b[0mself\u001b[0m\u001b[0;34m.\u001b[0m\u001b[0m_forward_hooks\u001b[0m\u001b[0;34m.\u001b[0m\u001b[0mvalues\u001b[0m\u001b[0;34m(\u001b[0m\u001b[0;34m)\u001b[0m\u001b[0;34m:\u001b[0m\u001b[0;34m\u001b[0m\u001b[0;34m\u001b[0m\u001b[0m\n\u001b[1;32m    543\u001b[0m             \u001b[0mhook_result\u001b[0m \u001b[0;34m=\u001b[0m \u001b[0mhook\u001b[0m\u001b[0;34m(\u001b[0m\u001b[0mself\u001b[0m\u001b[0;34m,\u001b[0m \u001b[0minput\u001b[0m\u001b[0;34m,\u001b[0m \u001b[0mresult\u001b[0m\u001b[0;34m)\u001b[0m\u001b[0;34m\u001b[0m\u001b[0;34m\u001b[0m\u001b[0m\n",
            "\u001b[0;32m<ipython-input-24-cf57651f579b>\u001b[0m in \u001b[0;36mforward\u001b[0;34m(self, x, h_0)\u001b[0m\n\u001b[1;32m      9\u001b[0m         \u001b[0;31m# h_0.shape:\u001b[0m\u001b[0;34m\u001b[0m\u001b[0;34m\u001b[0m\u001b[0;34m\u001b[0m\u001b[0m\n\u001b[1;32m     10\u001b[0m         \u001b[0;31m# output.shape: batch x sequence length x input_size\u001b[0m\u001b[0;34m\u001b[0m\u001b[0;34m\u001b[0m\u001b[0;34m\u001b[0m\u001b[0m\n\u001b[0;32m---> 11\u001b[0;31m         \u001b[0moutput\u001b[0m\u001b[0;34m,\u001b[0m \u001b[0mh_n\u001b[0m \u001b[0;34m=\u001b[0m \u001b[0mself\u001b[0m\u001b[0;34m.\u001b[0m\u001b[0mrnn_encoder\u001b[0m\u001b[0;34m(\u001b[0m\u001b[0mx\u001b[0m\u001b[0;34m,\u001b[0m \u001b[0mh_0\u001b[0m\u001b[0;34m)\u001b[0m\u001b[0;34m\u001b[0m\u001b[0;34m\u001b[0m\u001b[0m\n\u001b[0m\u001b[1;32m     12\u001b[0m \u001b[0;34m\u001b[0m\u001b[0m\n\u001b[1;32m     13\u001b[0m         \u001b[0;31m# output.shape: batch x input_size\u001b[0m\u001b[0;34m\u001b[0m\u001b[0;34m\u001b[0m\u001b[0;34m\u001b[0m\u001b[0m\n",
            "\u001b[0;32m/usr/local/lib/python3.6/dist-packages/torch/nn/modules/module.py\u001b[0m in \u001b[0;36m__call__\u001b[0;34m(self, *input, **kwargs)\u001b[0m\n\u001b[1;32m    539\u001b[0m             \u001b[0mresult\u001b[0m \u001b[0;34m=\u001b[0m \u001b[0mself\u001b[0m\u001b[0;34m.\u001b[0m\u001b[0m_slow_forward\u001b[0m\u001b[0;34m(\u001b[0m\u001b[0;34m*\u001b[0m\u001b[0minput\u001b[0m\u001b[0;34m,\u001b[0m \u001b[0;34m**\u001b[0m\u001b[0mkwargs\u001b[0m\u001b[0;34m)\u001b[0m\u001b[0;34m\u001b[0m\u001b[0;34m\u001b[0m\u001b[0m\n\u001b[1;32m    540\u001b[0m         \u001b[0;32melse\u001b[0m\u001b[0;34m:\u001b[0m\u001b[0;34m\u001b[0m\u001b[0;34m\u001b[0m\u001b[0m\n\u001b[0;32m--> 541\u001b[0;31m             \u001b[0mresult\u001b[0m \u001b[0;34m=\u001b[0m \u001b[0mself\u001b[0m\u001b[0;34m.\u001b[0m\u001b[0mforward\u001b[0m\u001b[0;34m(\u001b[0m\u001b[0;34m*\u001b[0m\u001b[0minput\u001b[0m\u001b[0;34m,\u001b[0m \u001b[0;34m**\u001b[0m\u001b[0mkwargs\u001b[0m\u001b[0;34m)\u001b[0m\u001b[0;34m\u001b[0m\u001b[0;34m\u001b[0m\u001b[0m\n\u001b[0m\u001b[1;32m    542\u001b[0m         \u001b[0;32mfor\u001b[0m \u001b[0mhook\u001b[0m \u001b[0;32min\u001b[0m \u001b[0mself\u001b[0m\u001b[0;34m.\u001b[0m\u001b[0m_forward_hooks\u001b[0m\u001b[0;34m.\u001b[0m\u001b[0mvalues\u001b[0m\u001b[0;34m(\u001b[0m\u001b[0;34m)\u001b[0m\u001b[0;34m:\u001b[0m\u001b[0;34m\u001b[0m\u001b[0;34m\u001b[0m\u001b[0m\n\u001b[1;32m    543\u001b[0m             \u001b[0mhook_result\u001b[0m \u001b[0;34m=\u001b[0m \u001b[0mhook\u001b[0m\u001b[0;34m(\u001b[0m\u001b[0mself\u001b[0m\u001b[0;34m,\u001b[0m \u001b[0minput\u001b[0m\u001b[0;34m,\u001b[0m \u001b[0mresult\u001b[0m\u001b[0;34m)\u001b[0m\u001b[0;34m\u001b[0m\u001b[0;34m\u001b[0m\u001b[0m\n",
            "\u001b[0;32m/usr/local/lib/python3.6/dist-packages/torch/nn/modules/rnn.py\u001b[0m in \u001b[0;36mforward\u001b[0;34m(self, input, hx)\u001b[0m\n\u001b[1;32m    727\u001b[0m             \u001b[0;32mreturn\u001b[0m \u001b[0mself\u001b[0m\u001b[0;34m.\u001b[0m\u001b[0mforward_packed\u001b[0m\u001b[0;34m(\u001b[0m\u001b[0minput\u001b[0m\u001b[0;34m,\u001b[0m \u001b[0mhx\u001b[0m\u001b[0;34m)\u001b[0m\u001b[0;34m\u001b[0m\u001b[0;34m\u001b[0m\u001b[0m\n\u001b[1;32m    728\u001b[0m         \u001b[0;32melse\u001b[0m\u001b[0;34m:\u001b[0m\u001b[0;34m\u001b[0m\u001b[0;34m\u001b[0m\u001b[0m\n\u001b[0;32m--> 729\u001b[0;31m             \u001b[0;32mreturn\u001b[0m \u001b[0mself\u001b[0m\u001b[0;34m.\u001b[0m\u001b[0mforward_tensor\u001b[0m\u001b[0;34m(\u001b[0m\u001b[0minput\u001b[0m\u001b[0;34m,\u001b[0m \u001b[0mhx\u001b[0m\u001b[0;34m)\u001b[0m\u001b[0;34m\u001b[0m\u001b[0;34m\u001b[0m\u001b[0m\n\u001b[0m\u001b[1;32m    730\u001b[0m \u001b[0;34m\u001b[0m\u001b[0m\n\u001b[1;32m    731\u001b[0m \u001b[0;34m\u001b[0m\u001b[0m\n",
            "\u001b[0;32m/usr/local/lib/python3.6/dist-packages/torch/nn/modules/rnn.py\u001b[0m in \u001b[0;36mforward_tensor\u001b[0;34m(self, input, hx)\u001b[0m\n\u001b[1;32m    719\u001b[0m         \u001b[0msorted_indices\u001b[0m \u001b[0;34m=\u001b[0m \u001b[0;32mNone\u001b[0m\u001b[0;34m\u001b[0m\u001b[0;34m\u001b[0m\u001b[0m\n\u001b[1;32m    720\u001b[0m         \u001b[0munsorted_indices\u001b[0m \u001b[0;34m=\u001b[0m \u001b[0;32mNone\u001b[0m\u001b[0;34m\u001b[0m\u001b[0;34m\u001b[0m\u001b[0m\n\u001b[0;32m--> 721\u001b[0;31m         \u001b[0moutput\u001b[0m\u001b[0;34m,\u001b[0m \u001b[0mhidden\u001b[0m \u001b[0;34m=\u001b[0m \u001b[0mself\u001b[0m\u001b[0;34m.\u001b[0m\u001b[0mforward_impl\u001b[0m\u001b[0;34m(\u001b[0m\u001b[0minput\u001b[0m\u001b[0;34m,\u001b[0m \u001b[0mhx\u001b[0m\u001b[0;34m,\u001b[0m \u001b[0mbatch_sizes\u001b[0m\u001b[0;34m,\u001b[0m \u001b[0mmax_batch_size\u001b[0m\u001b[0;34m,\u001b[0m \u001b[0msorted_indices\u001b[0m\u001b[0;34m)\u001b[0m\u001b[0;34m\u001b[0m\u001b[0;34m\u001b[0m\u001b[0m\n\u001b[0m\u001b[1;32m    722\u001b[0m         \u001b[0;32mreturn\u001b[0m \u001b[0moutput\u001b[0m\u001b[0;34m,\u001b[0m \u001b[0mself\u001b[0m\u001b[0;34m.\u001b[0m\u001b[0mpermute_hidden\u001b[0m\u001b[0;34m(\u001b[0m\u001b[0mhidden\u001b[0m\u001b[0;34m,\u001b[0m \u001b[0munsorted_indices\u001b[0m\u001b[0;34m)\u001b[0m\u001b[0;34m\u001b[0m\u001b[0;34m\u001b[0m\u001b[0m\n\u001b[1;32m    723\u001b[0m \u001b[0;34m\u001b[0m\u001b[0m\n",
            "\u001b[0;32m/usr/local/lib/python3.6/dist-packages/torch/nn/modules/rnn.py\u001b[0m in \u001b[0;36mforward_impl\u001b[0;34m(self, input, hx, batch_sizes, max_batch_size, sorted_indices)\u001b[0m\n\u001b[1;32m    696\u001b[0m             \u001b[0mhx\u001b[0m \u001b[0;34m=\u001b[0m \u001b[0mself\u001b[0m\u001b[0;34m.\u001b[0m\u001b[0mpermute_hidden\u001b[0m\u001b[0;34m(\u001b[0m\u001b[0mhx\u001b[0m\u001b[0;34m,\u001b[0m \u001b[0msorted_indices\u001b[0m\u001b[0;34m)\u001b[0m\u001b[0;34m\u001b[0m\u001b[0;34m\u001b[0m\u001b[0m\n\u001b[1;32m    697\u001b[0m \u001b[0;34m\u001b[0m\u001b[0m\n\u001b[0;32m--> 698\u001b[0;31m         \u001b[0mself\u001b[0m\u001b[0;34m.\u001b[0m\u001b[0mcheck_forward_args\u001b[0m\u001b[0;34m(\u001b[0m\u001b[0minput\u001b[0m\u001b[0;34m,\u001b[0m \u001b[0mhx\u001b[0m\u001b[0;34m,\u001b[0m \u001b[0mbatch_sizes\u001b[0m\u001b[0;34m)\u001b[0m\u001b[0;34m\u001b[0m\u001b[0;34m\u001b[0m\u001b[0m\n\u001b[0m\u001b[1;32m    699\u001b[0m         \u001b[0mresult\u001b[0m \u001b[0;34m=\u001b[0m \u001b[0mself\u001b[0m\u001b[0;34m.\u001b[0m\u001b[0mrun_impl\u001b[0m\u001b[0;34m(\u001b[0m\u001b[0minput\u001b[0m\u001b[0;34m,\u001b[0m \u001b[0mhx\u001b[0m\u001b[0;34m,\u001b[0m \u001b[0mbatch_sizes\u001b[0m\u001b[0;34m)\u001b[0m\u001b[0;34m\u001b[0m\u001b[0;34m\u001b[0m\u001b[0m\n\u001b[1;32m    700\u001b[0m         \u001b[0moutput\u001b[0m \u001b[0;34m=\u001b[0m \u001b[0mresult\u001b[0m\u001b[0;34m[\u001b[0m\u001b[0;36m0\u001b[0m\u001b[0;34m]\u001b[0m\u001b[0;34m\u001b[0m\u001b[0;34m\u001b[0m\u001b[0m\n",
            "\u001b[0;32m/usr/local/lib/python3.6/dist-packages/torch/nn/modules/rnn.py\u001b[0m in \u001b[0;36mcheck_forward_args\u001b[0;34m(self, input, hidden, batch_sizes)\u001b[0m\n\u001b[1;32m    168\u001b[0m     \u001b[0;32mdef\u001b[0m \u001b[0mcheck_forward_args\u001b[0m\u001b[0;34m(\u001b[0m\u001b[0mself\u001b[0m\u001b[0;34m,\u001b[0m \u001b[0minput\u001b[0m\u001b[0;34m,\u001b[0m \u001b[0mhidden\u001b[0m\u001b[0;34m,\u001b[0m \u001b[0mbatch_sizes\u001b[0m\u001b[0;34m)\u001b[0m\u001b[0;34m:\u001b[0m\u001b[0;34m\u001b[0m\u001b[0;34m\u001b[0m\u001b[0m\n\u001b[1;32m    169\u001b[0m         \u001b[0;31m# type: (Tensor, Tensor, Optional[Tensor]) -> None\u001b[0m\u001b[0;34m\u001b[0m\u001b[0;34m\u001b[0m\u001b[0;34m\u001b[0m\u001b[0m\n\u001b[0;32m--> 170\u001b[0;31m         \u001b[0mself\u001b[0m\u001b[0;34m.\u001b[0m\u001b[0mcheck_input\u001b[0m\u001b[0;34m(\u001b[0m\u001b[0minput\u001b[0m\u001b[0;34m,\u001b[0m \u001b[0mbatch_sizes\u001b[0m\u001b[0;34m)\u001b[0m\u001b[0;34m\u001b[0m\u001b[0;34m\u001b[0m\u001b[0m\n\u001b[0m\u001b[1;32m    171\u001b[0m         \u001b[0mexpected_hidden_size\u001b[0m \u001b[0;34m=\u001b[0m \u001b[0mself\u001b[0m\u001b[0;34m.\u001b[0m\u001b[0mget_expected_hidden_size\u001b[0m\u001b[0;34m(\u001b[0m\u001b[0minput\u001b[0m\u001b[0;34m,\u001b[0m \u001b[0mbatch_sizes\u001b[0m\u001b[0;34m)\u001b[0m\u001b[0;34m\u001b[0m\u001b[0;34m\u001b[0m\u001b[0m\n\u001b[1;32m    172\u001b[0m \u001b[0;34m\u001b[0m\u001b[0m\n",
            "\u001b[0;32m/usr/local/lib/python3.6/dist-packages/torch/nn/modules/rnn.py\u001b[0m in \u001b[0;36mcheck_input\u001b[0;34m(self, input, batch_sizes)\u001b[0m\n\u001b[1;32m    147\u001b[0m             raise RuntimeError(\n\u001b[1;32m    148\u001b[0m                 'input.size(-1) must be equal to input_size. Expected {}, got {}'.format(\n\u001b[0;32m--> 149\u001b[0;31m                     self.input_size, input.size(-1)))\n\u001b[0m\u001b[1;32m    150\u001b[0m \u001b[0;34m\u001b[0m\u001b[0m\n\u001b[1;32m    151\u001b[0m     \u001b[0;32mdef\u001b[0m \u001b[0mget_expected_hidden_size\u001b[0m\u001b[0;34m(\u001b[0m\u001b[0mself\u001b[0m\u001b[0;34m,\u001b[0m \u001b[0minput\u001b[0m\u001b[0;34m,\u001b[0m \u001b[0mbatch_sizes\u001b[0m\u001b[0;34m)\u001b[0m\u001b[0;34m:\u001b[0m\u001b[0;34m\u001b[0m\u001b[0;34m\u001b[0m\u001b[0m\n",
            "\u001b[0;31mRuntimeError\u001b[0m: input.size(-1) must be equal to input_size. Expected 15, got 10"
          ]
        }
      ]
    },
    {
      "cell_type": "markdown",
      "metadata": {
        "id": "eWBS4m_FcHp1",
        "colab_type": "text"
      },
      "source": [
        "#Testing Our Model"
      ]
    },
    {
      "cell_type": "code",
      "metadata": {
        "id": "zKlaaNNnxw05",
        "colab_type": "code",
        "outputId": "243448ed-f363-49f9-fb85-eb4130e81585",
        "colab": {
          "base_uri": "https://localhost:8080/",
          "height": 244
        }
      },
      "source": [
        "model.eval()\n",
        "\n",
        "total_loss = []\n",
        "total_output = []\n",
        "total_labels = []\n",
        "\n",
        "criterion = nn.CrossEntropyLoss(reduction='none')\n",
        "\n",
        "for (inputs, y) in enumerate(test_loader):\n",
        "  \n",
        "  inputs = torch.tensor(inputs, dtype=torch.float)\n",
        "  y = torch.tensor(y, dtype=torch.long)\n",
        "\n",
        "  output = model(inputs, initial_hidden_state)\n",
        "  loss = criterion(output, y)\n",
        "  total_loss.append(loss)\n",
        "  output = F.softmax(output, dim=1).argmax(dim=1)\n",
        "  total_output.append(output)\n",
        "  total_labels.append(y)\n",
        "\n",
        "  total_loss = torch.cat(total_loss).contiguous().mean()\n",
        "  total_output = torch.cat(total_output).cpu().numpy()\n",
        "  total_labels = torch.cat(total_labels).cpu().numpy()\n",
        "\n",
        "  precision, recall, f1, _ = precision_recall_fscore_support(total_labels, total_output, labels=[0, 1])\n",
        "\n"
      ],
      "execution_count": 197,
      "outputs": [
        {
          "output_type": "error",
          "ename": "ValueError",
          "evalue": "ignored",
          "traceback": [
            "\u001b[0;31m---------------------------------------------------------------------------\u001b[0m",
            "\u001b[0;31mValueError\u001b[0m                                Traceback (most recent call last)",
            "\u001b[0;32m<ipython-input-197-d056ad202b15>\u001b[0m in \u001b[0;36m<module>\u001b[0;34m()\u001b[0m\n\u001b[1;32m     10\u001b[0m \u001b[0;34m\u001b[0m\u001b[0m\n\u001b[1;32m     11\u001b[0m   \u001b[0minputs\u001b[0m \u001b[0;34m=\u001b[0m \u001b[0mtorch\u001b[0m\u001b[0;34m.\u001b[0m\u001b[0mtensor\u001b[0m\u001b[0;34m(\u001b[0m\u001b[0minputs\u001b[0m\u001b[0;34m,\u001b[0m \u001b[0mdtype\u001b[0m\u001b[0;34m=\u001b[0m\u001b[0mtorch\u001b[0m\u001b[0;34m.\u001b[0m\u001b[0mfloat\u001b[0m\u001b[0;34m)\u001b[0m\u001b[0;34m\u001b[0m\u001b[0;34m\u001b[0m\u001b[0m\n\u001b[0;32m---> 12\u001b[0;31m   \u001b[0my\u001b[0m \u001b[0;34m=\u001b[0m \u001b[0mtorch\u001b[0m\u001b[0;34m.\u001b[0m\u001b[0mtensor\u001b[0m\u001b[0;34m(\u001b[0m\u001b[0my\u001b[0m\u001b[0;34m,\u001b[0m \u001b[0mdtype\u001b[0m\u001b[0;34m=\u001b[0m\u001b[0mtorch\u001b[0m\u001b[0;34m.\u001b[0m\u001b[0mlong\u001b[0m\u001b[0;34m)\u001b[0m\u001b[0;34m\u001b[0m\u001b[0;34m\u001b[0m\u001b[0m\n\u001b[0m\u001b[1;32m     13\u001b[0m \u001b[0;34m\u001b[0m\u001b[0m\n\u001b[1;32m     14\u001b[0m   \u001b[0moutput\u001b[0m \u001b[0;34m=\u001b[0m \u001b[0mmodel\u001b[0m\u001b[0;34m(\u001b[0m\u001b[0minputs\u001b[0m\u001b[0;34m,\u001b[0m \u001b[0minitial_hidden_state\u001b[0m\u001b[0;34m)\u001b[0m\u001b[0;34m\u001b[0m\u001b[0;34m\u001b[0m\u001b[0m\n",
            "\u001b[0;31mValueError\u001b[0m: only one element tensors can be converted to Python scalars"
          ]
        }
      ]
    },
    {
      "cell_type": "code",
      "metadata": {
        "id": "RgODL8ngf8RR",
        "colab_type": "code",
        "colab": {}
      },
      "source": [
        "x`x`"
      ],
      "execution_count": 0,
      "outputs": []
    }
  ]
}